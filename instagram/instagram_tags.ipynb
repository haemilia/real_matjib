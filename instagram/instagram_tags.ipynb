{
 "cells": [
  {
   "cell_type": "markdown",
   "id": "36c7b020",
   "metadata": {},
   "source": [
    "**참고 사이트**<br>\n",
    "[첫 번째 참고 사이트](https://blog.naver.com/cygnet3rd/222885102852),\n",
    "[두 번째 참고 사이트](https://velog.io/@leeug9002/python-selenium%EC%9D%B8%EC%8A%A4%ED%83%80-%ED%81%AC%EB%A1%A4%EB%A7%81),\n",
    "[세 번째 참고 사이트](https://proefforter.tistory.com/36)"
   ]
  },
  {
   "cell_type": "markdown",
   "id": "76f8f441",
   "metadata": {},
   "source": [
    "**필요한 패키지 호출**"
   ]
  },
  {
   "cell_type": "code",
   "execution_count": 1,
   "id": "55e1b1be",
   "metadata": {},
   "outputs": [],
   "source": [
    "from selenium import webdriver\n",
    "from bs4 import BeautifulSoup\n",
    "import pandas as pd\n",
    "import time\n",
    "import re\n",
    "\n",
    "import requests\n",
    "from re import escape\n",
    "from bs4 import BeautifulSoup\n",
    "from selenium import webdriver\n",
    "from selenium.webdriver.chrome.service import Service\n",
    "from webdriver_manager.chrome import ChromeDriverManager\n",
    "from bs4 import BeautifulSoup\n",
    "\n",
    "from selenium.webdriver.common.by import By\n",
    "from selenium.webdriver.support.ui import WebDriverWait\n",
    "from selenium.webdriver.support import expected_conditions as EC\n",
    "from selenium.webdriver.chrome.options import Options\n",
    "\n",
    "import urllib.request\n",
    "import time\n",
    "from selenium.webdriver.common.by import By"
   ]
  },
  {
   "cell_type": "markdown",
   "id": "dd291a1e",
   "metadata": {},
   "source": [
    "**데이터 수집하기**\n",
    "- 아이디, 본문 내용, 해시태그, 작성일자, 좋아요 수, 이미지 URL, 위치정보"
   ]
  },
  {
   "cell_type": "code",
   "execution_count": 2,
   "id": "ea90cd30",
   "metadata": {},
   "outputs": [],
   "source": [
    "def get_content(driver):\n",
    "    url = driver.current_url\n",
    "    driver.get(url)\n",
    "    time.sleep(3)\n",
    "\n",
    "    html = driver.page_source\n",
    "    soup = BeautifulSoup(html, 'html.parser')\n",
    "\n",
    "    #아이디\n",
    "    ids = soup.select('span._ap3a._aaco._aacw._aacx._aad7._aade')[0].text\n",
    "\n",
    "    #본문 내용\n",
    "    try:\n",
    "        #다른 유저 태그되어있을 시 [0].text가 \"및\"임\n",
    "        soup_select = soup.select('span.x193iq5w.xeuugli.x1fj9vlw.x13faqbe.x1vvkbs.xt0psk2.x1i0vuye.xvs91rp.xo1l8bm.x5n08af.x10wh9bi.x1wdrske.x8viiok.x18hxmgj')\n",
    "        select_cnt = len(soup_select)\n",
    "        content_all = soup_select[select_cnt-1].text\n",
    "        content = re.sub(r'#\\S+', '', content_all).strip()\n",
    "    except:\n",
    "        content = ''    #본문 내용 없을 시\n",
    "\n",
    "    #해시태그\n",
    "    tags = re.findall(r'#[^\\s#,\\\\]+', content_all)\n",
    "\n",
    "    #작성일자\n",
    "    date = soup.select('time.x1p4m5qa')[0]['datetime'][:10]\n",
    "\n",
    "    #좋아요\n",
    "    try:\n",
    "        like = soup.select('span.html-span.xdj266r.x11i5rnm.xat24cr.x1mh8g0r.xexx8yu.x4uap5.x18d9i69.xkhd6sd.x1hl2dhg.x16tdsg8.x1vvkbs')[0].text\n",
    "    except:\n",
    "        like = 0    #좋아요 없을 시\n",
    "    \n",
    "    #이미지\n",
    "    try:\n",
    "        img_urls = []\n",
    "\n",
    "        total_images = int(len(soup.select('div._acnb')))\n",
    "\n",
    "        for i in range(total_images):\n",
    "            #슬라이드 후 이미지 로딩 대기\n",
    "            time.sleep(2)\n",
    "\n",
    "            #이미지 추출(첫 이미지만 li._acaz[0], 나머지는 [1])\n",
    "            img_idx = 0 if i == 0 else 1\n",
    "            try:\n",
    "                img_cnts = driver.find_elements(By.CSS_SELECTOR, 'li._acaz')\n",
    "                img = img_cnts[img_idx].find_element(By.TAG_NAME, 'img')\n",
    "                src = img.get_attribute('src')\n",
    "                img_urls.append(src)\n",
    "                #urllib.request.urlretrieve(src, f'{i+1}.jpg')  #이미지 저장장\n",
    "            except Exception as e:\n",
    "                print(f'{i+1}번째 이미지 저장 실패: ', e)\n",
    "\n",
    "            #마지막 이미지 아니면 다음 버튼 클릭\n",
    "            if i < total_images - 1:\n",
    "                try:\n",
    "                    nxt_btn = driver.find_element(By.CSS_SELECTOR, 'div._9zm2')\n",
    "                    nxt_btn.click()\n",
    "                except Exception as e:\n",
    "                    print(f'{i+1}번째에서 다음 버튼 클릭 실패: ', e)\n",
    "    except:\n",
    "        img_urls = ''   #이미지 없을 시\n",
    "\n",
    "    data = [ids, content, tags, date, like, img_urls]\n",
    "    return data"
   ]
  },
  {
   "cell_type": "markdown",
   "id": "cf2ed240",
   "metadata": {},
   "source": [
    "**크롬 브라우저 열고 인스타그램 접속**"
   ]
  },
  {
   "cell_type": "code",
   "execution_count": 3,
   "id": "ee8bd1c8",
   "metadata": {},
   "outputs": [],
   "source": [
    "options = webdriver.ChromeOptions()\n",
    "driver = webdriver.Chrome(service=Service(ChromeDriverManager().install()), options=options)\n",
    "\n",
    "url = 'https://www.instagram.com'\n",
    "\n",
    "driver.get(url)"
   ]
  },
  {
   "cell_type": "markdown",
   "id": "e8d831ef",
   "metadata": {},
   "source": [
    "**인스타그램 로그인**\n",
    "- `By.NAME`: HTML 태그 중 `name='...'` 속성을 기준으로 찾겠다\n",
    "- ex. `<input t ype='password' name='password'>`"
   ]
  },
  {
   "cell_type": "code",
   "execution_count": 4,
   "id": "dd720cc0",
   "metadata": {},
   "outputs": [],
   "source": [
    "userId = 'user id'\n",
    "input_id = driver.find_element(By.NAME, 'username')\n",
    "input_id.clear()\n",
    "input_id.send_keys(userId)\n",
    "\n",
    "userPw = 'user password'\n",
    "input_pw = driver.find_element(By.NAME, 'password')\n",
    "input_pw.clear()\n",
    "input_pw.send_keys(userPw)\n",
    "input_pw.submit()"
   ]
  },
  {
   "cell_type": "markdown",
   "id": "b2094f95",
   "metadata": {},
   "source": [
    "**원하는 검색어(해시태그)를 입력받아 해당 검색결과 페이지로 링크**\n",
    "- 페이지가 로드되는 데 시간이 소요될 수 있어 3초의 시간 지연 부여"
   ]
  },
  {
   "cell_type": "code",
   "execution_count": 5,
   "id": "63638e18",
   "metadata": {},
   "outputs": [],
   "source": [
    "word = input('검색어를 입력하세요: ')   #'연남동맛집' 검색\n",
    "url = 'https://www.instagram.com/explore/search/keyword/?q=%23' + str(word)\n",
    "driver.get(url)\n",
    "time.sleep(3)"
   ]
  },
  {
   "cell_type": "code",
   "execution_count": 6,
   "id": "fb58f4a1",
   "metadata": {},
   "outputs": [],
   "source": [
    "driver.find_elements(By.CSS_SELECTOR, 'div._aagw')[0].click()   #첫 번째 게시물 클릭\n",
    "time.sleep(3)\n",
    "\n",
    "post_url = []\n",
    "post_url.append(driver.current_url) #현재(첫 번째) 게시물 url\n",
    "\n",
    "def move_next(driver):\n",
    "    nxt = driver.find_element(By.CSS_SELECTOR, 'div._aaqg._aaqh')\n",
    "    nxt.click()   #다음 게시물로 이동\n",
    "    time.sleep(3)\n",
    "    now_url = driver.current_url    #이동한 게시물 url\n",
    "    post_url.append(now_url)\n",
    "\n",
    "target = 9  #수집할 게시물 개수\n",
    "\n",
    "for i in range(target):\n",
    "    try:\n",
    "        move_next(driver)   #target만큼 게시물의 url 모으기\n",
    "        time.sleep(3)\n",
    "    except:\n",
    "        time.sleep(2)\n",
    "        move_next(driver)\n",
    "        time.sleep(3)"
   ]
  },
  {
   "cell_type": "code",
   "execution_count": 7,
   "id": "73ba47ee",
   "metadata": {},
   "outputs": [
    {
     "data": {
      "text/plain": [
       "10"
      ]
     },
     "execution_count": 7,
     "metadata": {},
     "output_type": "execute_result"
    }
   ],
   "source": [
    "results = []    #수집한 데이터값 담을 리스트\n",
    "\n",
    "for post in post_url:\n",
    "    url = post\n",
    "    driver.get(url) #게시물 url로 이동\n",
    "\n",
    "    data = get_content(driver)  #크롤링\n",
    "    results.append(data)\n",
    "    time.sleep(3)\n",
    "\n",
    "len(results)"
   ]
  },
  {
   "cell_type": "code",
   "execution_count": 8,
   "id": "95376333",
   "metadata": {},
   "outputs": [
    {
     "data": {
      "application/vnd.microsoft.datawrangler.viewer.v0+json": {
       "columns": [
        {
         "name": "index",
         "rawType": "int64",
         "type": "integer"
        },
        {
         "name": "id",
         "rawType": "object",
         "type": "string"
        },
        {
         "name": "content",
         "rawType": "object",
         "type": "string"
        },
        {
         "name": "tags",
         "rawType": "object",
         "type": "unknown"
        },
        {
         "name": "date",
         "rawType": "object",
         "type": "string"
        },
        {
         "name": "like",
         "rawType": "object",
         "type": "string"
        },
        {
         "name": "img_urls",
         "rawType": "object",
         "type": "unknown"
        }
       ],
       "conversionMethod": "pd.DataFrame",
       "ref": "f40bd0f0-e97d-4eee-8df2-596a2aec402d",
       "rows": [
        [
         "0",
         "seoulhotple",
         "[먹부림하기 좋은 연남동찐맛집 36곳 대공개💗]비쥬얼부터 맛있어버린 핫한 맛집들로 모았어!@@같이 먹방찍으러 가자😋💕-",
         "['#연남동맛집', '#연남동맛집추천', '#연남동맛집투어', '#연남동데이트', '#연남동데이트추천', '#연남동밥집']",
         "2023-03-31",
         "3789",
         "['https://scontent-ssn1-1.cdninstagram.com/v/t51.2885-15/338449014_1398549894310395_5049364682548176467_n.jpg?stp=dst-jpg_e15_tt6&efg=eyJ2ZW5jb2RlX3RhZyI6IkNBUk9VU0VMX0lURU0uaW1hZ2VfdXJsZ2VuLjEwODB4MTM1MC5zZHIuZjI4ODUuZGVmYXVsdF9pbWFnZSJ9&_nc_ht=scontent-ssn1-1.cdninstagram.com&_nc_cat=103&_nc_oc=Q6cZ2QG05B_i1p_EqzrLuHOrGy5ysQe_gsFDZEBeszScGuq-VOhyLTjL4ejgsUTa7him3to&_nc_ohc=u87V7FhtlosQ7kNvwEgIFpc&_nc_gid=WwmrGl4CA_dMLkRZbgVOwA&edm=APs17CUBAAAA&ccb=7-5&ig_cache_key=MzA3MDY4MjA2OTI3MDQ2MDg1NA%3D%3D.3-ccb7-5&oh=00_AfI5Zefd4AK9nzHu1A4_08FP1A7ZM3qaKtZ9OBU-t1P9Rw&oe=68309D91&_nc_sid=10d13b', 'https://scontent-ssn1-1.cdninstagram.com/v/t51.2885-15/339154415_976040450066552_8463105093928694760_n.jpg?stp=dst-jpg_e15_tt6&efg=eyJ2ZW5jb2RlX3RhZyI6IkNBUk9VU0VMX0lURU0uaW1hZ2VfdXJsZ2VuLjEwODB4MTM1MC5zZHIuZjI4ODUuZGVmYXVsdF9pbWFnZSJ9&_nc_ht=scontent-ssn1-1.cdninstagram.com&_nc_cat=108&_nc_oc=Q6cZ2QG05B_i1p_EqzrLuHOrGy5ysQe_gsFDZEBeszScGuq-VOhyLTjL4ejgsUTa7him3to&_nc_ohc=LL_UuAeeWvsQ7kNvwG1hbgM&_nc_gid=WwmrGl4CA_dMLkRZbgVOwA&edm=APs17CUBAAAA&ccb=7-5&ig_cache_key=MzA3MDY4MjA2OTQwNDYzODE5Nw%3D%3D.3-ccb7-5&oh=00_AfIK8loXJw5s8mvk-pybE6ApUnC-QiJHyjJcauAkF7x0YA&oe=68309B76&_nc_sid=10d13b', 'https://scontent-ssn1-1.cdninstagram.com/v/t51.2885-15/339154415_976040450066552_8463105093928694760_n.jpg?stp=dst-jpg_e15_tt6&efg=eyJ2ZW5jb2RlX3RhZyI6IkNBUk9VU0VMX0lURU0uaW1hZ2VfdXJsZ2VuLjEwODB4MTM1MC5zZHIuZjI4ODUuZGVmYXVsdF9pbWFnZSJ9&_nc_ht=scontent-ssn1-1.cdninstagram.com&_nc_cat=108&_nc_oc=Q6cZ2QG05B_i1p_EqzrLuHOrGy5ysQe_gsFDZEBeszScGuq-VOhyLTjL4ejgsUTa7him3to&_nc_ohc=LL_UuAeeWvsQ7kNvwG1hbgM&_nc_gid=WwmrGl4CA_dMLkRZbgVOwA&edm=APs17CUBAAAA&ccb=7-5&ig_cache_key=MzA3MDY4MjA2OTQwNDYzODE5Nw%3D%3D.3-ccb7-5&oh=00_AfIK8loXJw5s8mvk-pybE6ApUnC-QiJHyjJcauAkF7x0YA&oe=68309B76&_nc_sid=10d13b', 'https://scontent-ssn1-1.cdninstagram.com/v/t51.2885-15/339131516_2738314992972580_5998038031232219904_n.jpg?stp=dst-jpg_e15_tt6&efg=eyJ2ZW5jb2RlX3RhZyI6IkNBUk9VU0VMX0lURU0uaW1hZ2VfdXJsZ2VuLjEwODB4MTM1MC5zZHIuZjI4ODUuZGVmYXVsdF9pbWFnZSJ9&_nc_ht=scontent-ssn1-1.cdninstagram.com&_nc_cat=104&_nc_oc=Q6cZ2QG05B_i1p_EqzrLuHOrGy5ysQe_gsFDZEBeszScGuq-VOhyLTjL4ejgsUTa7him3to&_nc_ohc=Z8hfoqKnQ9UQ7kNvwHpj3eT&_nc_gid=WwmrGl4CA_dMLkRZbgVOwA&edm=APs17CUBAAAA&ccb=7-5&ig_cache_key=MzA3MDY4MjA2OTI3MDMxOTQzOA%3D%3D.3-ccb7-5&oh=00_AfKq8Y6tLRr5ppiCDkKHwRDXY3-HHDsUjOeh_g1KyjBqCQ&oe=6830A0CB&_nc_sid=10d13b', 'https://scontent-ssn1-1.cdninstagram.com/v/t51.2885-15/338741778_2342554465923132_6812344036804023488_n.jpg?stp=dst-jpg_e15_tt6&efg=eyJ2ZW5jb2RlX3RhZyI6IkNBUk9VU0VMX0lURU0uaW1hZ2VfdXJsZ2VuLjEwODB4MTM1MC5zZHIuZjI4ODUuZGVmYXVsdF9pbWFnZSJ9&_nc_ht=scontent-ssn1-1.cdninstagram.com&_nc_cat=100&_nc_oc=Q6cZ2QG05B_i1p_EqzrLuHOrGy5ysQe_gsFDZEBeszScGuq-VOhyLTjL4ejgsUTa7him3to&_nc_ohc=ags0-6P4JW4Q7kNvwGDH0KM&_nc_gid=WwmrGl4CA_dMLkRZbgVOwA&edm=APs17CUBAAAA&ccb=7-5&ig_cache_key=MzA3MDY4MjA2OTQzODA4OTc3NQ%3D%3D.3-ccb7-5&oh=00_AfLwCPnP74hDbzDVEyYJrYpKNbBAK3YND5v_tzpY42NNHw&oe=6830BDCB&_nc_sid=10d13b', 'https://scontent-ssn1-1.cdninstagram.com/v/t51.2885-15/338574119_595849262218876_7567880497731102761_n.jpg?stp=dst-jpg_e15_tt6&efg=eyJ2ZW5jb2RlX3RhZyI6IkNBUk9VU0VMX0lURU0uaW1hZ2VfdXJsZ2VuLjEwODB4MTM1MC5zZHIuZjI4ODUuZGVmYXVsdF9pbWFnZSJ9&_nc_ht=scontent-ssn1-1.cdninstagram.com&_nc_cat=104&_nc_oc=Q6cZ2QG05B_i1p_EqzrLuHOrGy5ysQe_gsFDZEBeszScGuq-VOhyLTjL4ejgsUTa7him3to&_nc_ohc=QJYDcQNgkUEQ7kNvwF1WluW&_nc_gid=WwmrGl4CA_dMLkRZbgVOwA&edm=APs17CUBAAAA&ccb=7-5&ig_cache_key=MzA3MDY4MjA2OTI3ODgyNzM2OQ%3D%3D.3-ccb7-5&oh=00_AfJK-UJd0bLk3FRZ88UipZvA3pYxy36525NGud-D7vWCPQ&oe=6830939A&_nc_sid=10d13b', 'https://scontent-ssn1-1.cdninstagram.com/v/t51.2885-15/338720293_704286951493554_7670535760078231632_n.jpg?stp=dst-jpg_e15_tt6&efg=eyJ2ZW5jb2RlX3RhZyI6IkNBUk9VU0VMX0lURU0uaW1hZ2VfdXJsZ2VuLjEwODB4MTM1MC5zZHIuZjI4ODUuZGVmYXVsdF9pbWFnZSJ9&_nc_ht=scontent-ssn1-1.cdninstagram.com&_nc_cat=106&_nc_oc=Q6cZ2QG05B_i1p_EqzrLuHOrGy5ysQe_gsFDZEBeszScGuq-VOhyLTjL4ejgsUTa7him3to&_nc_ohc=58_qswjYzr8Q7kNvwHkQU9d&_nc_gid=WwmrGl4CA_dMLkRZbgVOwA&edm=APs17CUBAAAA&ccb=7-5&ig_cache_key=MzA3MDY4MjA2OTI3ODcxODcxOA%3D%3D.3-ccb7-5&oh=00_AfJDLpNrdvhZxNoOPrHNrfiZvMwDzW_MfVBHCsvhn7L9aw&oe=6830B82F&_nc_sid=10d13b', 'https://scontent-ssn1-1.cdninstagram.com/v/t51.2885-15/338970341_787720759008930_6345329614958415846_n.jpg?stp=dst-jpg_e15_tt6&efg=eyJ2ZW5jb2RlX3RhZyI6IkNBUk9VU0VMX0lURU0uaW1hZ2VfdXJsZ2VuLjEwODB4MTM1MC5zZHIuZjI4ODUuZGVmYXVsdF9pbWFnZSJ9&_nc_ht=scontent-ssn1-1.cdninstagram.com&_nc_cat=106&_nc_oc=Q6cZ2QG05B_i1p_EqzrLuHOrGy5ysQe_gsFDZEBeszScGuq-VOhyLTjL4ejgsUTa7him3to&_nc_ohc=5n8JEvu7nEAQ7kNvwG1XcHm&_nc_gid=WwmrGl4CA_dMLkRZbgVOwA&edm=APs17CUBAAAA&ccb=7-5&ig_cache_key=MzA3MDY4MjA2OTQ4ODQ3ODU2Mw%3D%3D.3-ccb7-5&oh=00_AfL1jDe4zNXd9xUqrpdUUvx1SagG7X4IcgYSpx4T4ZDmbg&oe=6830B9DC&_nc_sid=10d13b', 'https://scontent-ssn1-1.cdninstagram.com/v/t51.2885-15/339177078_604095824921560_348140606715689583_n.jpg?stp=dst-jpg_e15_tt6&efg=eyJ2ZW5jb2RlX3RhZyI6IkNBUk9VU0VMX0lURU0uaW1hZ2VfdXJsZ2VuLjEwODB4MTM1MC5zZHIuZjI4ODUuZGVmYXVsdF9pbWFnZSJ9&_nc_ht=scontent-ssn1-1.cdninstagram.com&_nc_cat=104&_nc_oc=Q6cZ2QG05B_i1p_EqzrLuHOrGy5ysQe_gsFDZEBeszScGuq-VOhyLTjL4ejgsUTa7him3to&_nc_ohc=st0VBg1ln-MQ7kNvwEYEJpx&_nc_gid=WwmrGl4CA_dMLkRZbgVOwA&edm=APs17CUBAAAA&ccb=7-5&ig_cache_key=MzA3MDY4MjA2OTQwNDUyMDM0Mg%3D%3D.3-ccb7-5&oh=00_AfIN7n0xErpOlgfNkP7rJ0veFEQcwh4MqJCeR22l4nqgCQ&oe=6830881B&_nc_sid=10d13b', 'https://scontent-ssn1-1.cdninstagram.com/v/t51.2885-15/338961311_1152387128787207_5373944438577520308_n.jpg?stp=dst-jpg_e15_tt6&efg=eyJ2ZW5jb2RlX3RhZyI6IkNBUk9VU0VMX0lURU0uaW1hZ2VfdXJsZ2VuLjEwODB4MTM1MC5zZHIuZjI4ODUuZGVmYXVsdF9pbWFnZSJ9&_nc_ht=scontent-ssn1-1.cdninstagram.com&_nc_cat=103&_nc_oc=Q6cZ2QG05B_i1p_EqzrLuHOrGy5ysQe_gsFDZEBeszScGuq-VOhyLTjL4ejgsUTa7him3to&_nc_ohc=kP8Gf3oEh_EQ7kNvwHJEjrF&_nc_gid=WwmrGl4CA_dMLkRZbgVOwA&edm=APs17CUBAAAA&ccb=7-5&ig_cache_key=MzA3MDY4MjA2OTI3ODg5NzUzOA%3D%3D.3-ccb7-5&oh=00_AfIJr7-Ubs0YwaOkgFeS3XLsbELHvdS9M-5bBwSZsBspGA&oe=68308CC8&_nc_sid=10d13b']"
        ],
        [
         "1",
         "seoul_trends",
         "요즘 날씨 안가면 유죄라는연남동 봄맛집 털어왔다~~🌸🩷 비주얼부터 맛까지아무거나 골라가도무조건 성공이니까저장해두고 도장 깨보자!!🍽️✨ @@같이 갈 짝꿍태그",
         "['#연남동', '#연남동맛집', '#연남맛집', '#연남동카페', '#홍대맛집', '#야장맛집']",
         "2025-04-23",
         "2400",
         "['https://scontent-ssn1-1.cdninstagram.com/v/t51.2885-15/491424358_18401157112101439_8617142710441697804_n.jpg?stp=dst-jpg_e35_tt6&efg=eyJ2ZW5jb2RlX3RhZyI6IkNBUk9VU0VMX0lURU0uaW1hZ2VfdXJsZ2VuLjEwODB4MTM1MC5zZHIuZjc1NzYxLmRlZmF1bHRfaW1hZ2UifQ&_nc_ht=scontent-ssn1-1.cdninstagram.com&_nc_cat=107&_nc_oc=Q6cZ2QHnRCt0D-RtQeuoJbJh6SM7Bwmpx97t8l4-ZVqZIsGu08s0l-d9-Q-a0YIa516f52k&_nc_ohc=g6Ne4xRn_f8Q7kNvwH7xMTL&_nc_gid=7wUktkUymrET9L8xWZLTWw&edm=APs17CUBAAAA&ccb=7-5&ig_cache_key=MzYxNjI4OTYzNjkxNDg5MDc3NA%3D%3D.3-ccb7-5&oh=00_AfKx_8ThRlk9CUTJuwwcj_JEzeSTMsQWAsIKQe2k4Z3KSQ&oe=6830BEA6&_nc_sid=10d13b', 'https://scontent-ssn1-1.cdninstagram.com/v/t51.2885-15/491494080_18401157121101439_9187557882959570950_n.jpg?stp=dst-jpg_e35_tt6&efg=eyJ2ZW5jb2RlX3RhZyI6IkNBUk9VU0VMX0lURU0uaW1hZ2VfdXJsZ2VuLjEwODB4MTM1MC5zZHIuZjc1NzYxLmRlZmF1bHRfaW1hZ2UifQ&_nc_ht=scontent-ssn1-1.cdninstagram.com&_nc_cat=107&_nc_oc=Q6cZ2QHnRCt0D-RtQeuoJbJh6SM7Bwmpx97t8l4-ZVqZIsGu08s0l-d9-Q-a0YIa516f52k&_nc_ohc=rCLDHHqDQ4MQ7kNvwF5zT8R&_nc_gid=7wUktkUymrET9L8xWZLTWw&edm=APs17CUBAAAA&ccb=7-5&ig_cache_key=MzYxNjI4OTYzNjYxMjkxOTU3Mg%3D%3D.3-ccb7-5&oh=00_AfL_QO4DfPPkEtuH8oadhLQkpmCV5Rm989KYk6OsQRwQHg&oe=6830B27B&_nc_sid=10d13b', 'https://scontent-ssn1-1.cdninstagram.com/v/t51.2885-15/491494080_18401157121101439_9187557882959570950_n.jpg?stp=dst-jpg_e35_tt6&efg=eyJ2ZW5jb2RlX3RhZyI6IkNBUk9VU0VMX0lURU0uaW1hZ2VfdXJsZ2VuLjEwODB4MTM1MC5zZHIuZjc1NzYxLmRlZmF1bHRfaW1hZ2UifQ&_nc_ht=scontent-ssn1-1.cdninstagram.com&_nc_cat=107&_nc_oc=Q6cZ2QHnRCt0D-RtQeuoJbJh6SM7Bwmpx97t8l4-ZVqZIsGu08s0l-d9-Q-a0YIa516f52k&_nc_ohc=rCLDHHqDQ4MQ7kNvwF5zT8R&_nc_gid=7wUktkUymrET9L8xWZLTWw&edm=APs17CUBAAAA&ccb=7-5&ig_cache_key=MzYxNjI4OTYzNjYxMjkxOTU3Mg%3D%3D.3-ccb7-5&oh=00_AfL_QO4DfPPkEtuH8oadhLQkpmCV5Rm989KYk6OsQRwQHg&oe=6830B27B&_nc_sid=10d13b', 'https://scontent-ssn1-1.cdninstagram.com/v/t51.2885-15/491494602_18401157130101439_2594537433875480080_n.jpg?stp=dst-jpg_e35_tt6&efg=eyJ2ZW5jb2RlX3RhZyI6IkNBUk9VU0VMX0lURU0uaW1hZ2VfdXJsZ2VuLjEwODB4MTM1MC5zZHIuZjc1NzYxLmRlZmF1bHRfaW1hZ2UifQ&_nc_ht=scontent-ssn1-1.cdninstagram.com&_nc_cat=107&_nc_oc=Q6cZ2QHnRCt0D-RtQeuoJbJh6SM7Bwmpx97t8l4-ZVqZIsGu08s0l-d9-Q-a0YIa516f52k&_nc_ohc=W7r_2XCqWSAQ7kNvwHap_oJ&_nc_gid=7wUktkUymrET9L8xWZLTWw&edm=APs17CUBAAAA&ccb=7-5&ig_cache_key=MzYxNjI4OTYzNjgxNDIxNDM1MQ%3D%3D.3-ccb7-5&oh=00_AfKAAXTZC_MMWf-fPhh59_rhOVRhDk5OUWiiicb_kkVl6Q&oe=6830B506&_nc_sid=10d13b', 'https://scontent-ssn1-1.cdninstagram.com/v/t51.2885-15/491422776_18401157139101439_6664727495966375301_n.jpg?stp=dst-jpg_e35_tt6&efg=eyJ2ZW5jb2RlX3RhZyI6IkNBUk9VU0VMX0lURU0uaW1hZ2VfdXJsZ2VuLjEwODB4MTM1MC5zZHIuZjc1NzYxLmRlZmF1bHRfaW1hZ2UifQ&_nc_ht=scontent-ssn1-1.cdninstagram.com&_nc_cat=107&_nc_oc=Q6cZ2QHnRCt0D-RtQeuoJbJh6SM7Bwmpx97t8l4-ZVqZIsGu08s0l-d9-Q-a0YIa516f52k&_nc_ohc=taMUt3tUAYYQ7kNvwHKTlCU&_nc_gid=7wUktkUymrET9L8xWZLTWw&edm=APs17CUBAAAA&ccb=7-5&ig_cache_key=MzYxNjI4OTYzNjgxNDMzOTczMw%3D%3D.3-ccb7-5&oh=00_AfKPuwlikWmSrx_lxi5HmtP84kEVIX0Wa5X87AxS4Bu59Q&oe=683089E8&_nc_sid=10d13b', 'https://scontent-ssn1-1.cdninstagram.com/v/t51.2885-15/491496614_18401157148101439_4065487100913354382_n.jpg?stp=dst-jpg_e35_tt6&efg=eyJ2ZW5jb2RlX3RhZyI6IkNBUk9VU0VMX0lURU0uaW1hZ2VfdXJsZ2VuLjEwODB4MTM1MC5zZHIuZjc1NzYxLmRlZmF1bHRfaW1hZ2UifQ&_nc_ht=scontent-ssn1-1.cdninstagram.com&_nc_cat=107&_nc_oc=Q6cZ2QHnRCt0D-RtQeuoJbJh6SM7Bwmpx97t8l4-ZVqZIsGu08s0l-d9-Q-a0YIa516f52k&_nc_ohc=0N6np1GJa9gQ7kNvwE66XGH&_nc_gid=7wUktkUymrET9L8xWZLTWw&edm=APs17CUBAAAA&ccb=7-5&ig_cache_key=MzYxNjI4OTYzNjgwNTg3MjQ3NA%3D%3D.3-ccb7-5&oh=00_AfINIathmg3cbChgDBmq4jEPBJS-HyY1i9hkirTpwx6cSw&oe=6830BCA4&_nc_sid=10d13b', 'https://scontent-ssn1-1.cdninstagram.com/v/t51.2885-15/491497069_18401157157101439_5342194351803481184_n.jpg?stp=dst-jpg_e35_tt6&efg=eyJ2ZW5jb2RlX3RhZyI6IkNBUk9VU0VMX0lURU0uaW1hZ2VfdXJsZ2VuLjEwODB4MTM1MC5zZHIuZjc1NzYxLmRlZmF1bHRfaW1hZ2UifQ&_nc_ht=scontent-ssn1-1.cdninstagram.com&_nc_cat=107&_nc_oc=Q6cZ2QHnRCt0D-RtQeuoJbJh6SM7Bwmpx97t8l4-ZVqZIsGu08s0l-d9-Q-a0YIa516f52k&_nc_ohc=MTte9_MwFhwQ7kNvwHsc5xf&_nc_gid=7wUktkUymrET9L8xWZLTWw&edm=APs17CUBAAAA&ccb=7-5&ig_cache_key=MzYxNjI4OTYzNjgyMjc5MDgxNg%3D%3D.3-ccb7-5&oh=00_AfIKmW3qbASU1mkXq6j3AGGM2NNzhmqapVheR4YamIResA&oe=6830ABC4&_nc_sid=10d13b', 'https://scontent-ssn1-1.cdninstagram.com/v/t51.2885-15/491503155_18401157166101439_7182700437421299772_n.jpg?stp=dst-jpg_e35_tt6&efg=eyJ2ZW5jb2RlX3RhZyI6IkNBUk9VU0VMX0lURU0uaW1hZ2VfdXJsZ2VuLjEwODB4MTM1MC5zZHIuZjc1NzYxLmRlZmF1bHRfaW1hZ2UifQ&_nc_ht=scontent-ssn1-1.cdninstagram.com&_nc_cat=107&_nc_oc=Q6cZ2QHnRCt0D-RtQeuoJbJh6SM7Bwmpx97t8l4-ZVqZIsGu08s0l-d9-Q-a0YIa516f52k&_nc_ohc=b-ug-QTBibsQ7kNvwEnX0fv&_nc_gid=7wUktkUymrET9L8xWZLTWw&edm=APs17CUBAAAA&ccb=7-5&ig_cache_key=MzYxNjI4OTYzNjg1NjEyMTc2OA%3D%3D.3-ccb7-5&oh=00_AfK6fsUmCNRuAiJ5yTdbOROoVW5stsV2e3FlitX5EUgkGQ&oe=68309A98&_nc_sid=10d13b', 'https://scontent-ssn1-1.cdninstagram.com/v/t51.2885-15/491643205_18401157175101439_8985913451913747167_n.jpg?stp=dst-jpg_e35_tt6&efg=eyJ2ZW5jb2RlX3RhZyI6IkNBUk9VU0VMX0lURU0uaW1hZ2VfdXJsZ2VuLjEwODB4MTM1MC5zZHIuZjc1NzYxLmRlZmF1bHRfaW1hZ2UifQ&_nc_ht=scontent-ssn1-1.cdninstagram.com&_nc_cat=107&_nc_oc=Q6cZ2QHnRCt0D-RtQeuoJbJh6SM7Bwmpx97t8l4-ZVqZIsGu08s0l-d9-Q-a0YIa516f52k&_nc_ohc=A7dPZhFEb3IQ7kNvwFmlWbu&_nc_gid=7wUktkUymrET9L8xWZLTWw&edm=APs17CUBAAAA&ccb=7-5&ig_cache_key=MzYxNjI4OTYzNjgwNTc3NzQzMQ%3D%3D.3-ccb7-5&oh=00_AfIBeCbb8hNkm79Fr-TRMPTNmjQz2CpFMt6JOFx5xv36ig&oe=6830B802&_nc_sid=10d13b', 'https://scontent-ssn1-1.cdninstagram.com/v/t51.2885-15/491896534_18401157184101439_6189922889948865533_n.jpg?stp=dst-jpg_e35_tt6&efg=eyJ2ZW5jb2RlX3RhZyI6IkNBUk9VU0VMX0lURU0uaW1hZ2VfdXJsZ2VuLjEwODB4MTM1MC5zZHIuZjc1NzYxLmRlZmF1bHRfaW1hZ2UifQ&_nc_ht=scontent-ssn1-1.cdninstagram.com&_nc_cat=107&_nc_oc=Q6cZ2QHnRCt0D-RtQeuoJbJh6SM7Bwmpx97t8l4-ZVqZIsGu08s0l-d9-Q-a0YIa516f52k&_nc_ohc=IWDkSUhs15gQ7kNvwFhG_y7&_nc_gid=7wUktkUymrET9L8xWZLTWw&edm=APs17CUBAAAA&ccb=7-5&ig_cache_key=MzYxNjI4OTYzNjgxNDM5Mzc3Nw%3D%3D.3-ccb7-5&oh=00_AfIz9W0WyB9s699CgF9dWShUX-8pLNvqj-wmgtk5yTcTgA&oe=68309CD5&_nc_sid=10d13b', 'https://scontent-ssn1-1.cdninstagram.com/v/t51.2885-15/491428188_18401157193101439_1653536753926398615_n.jpg?stp=dst-jpg_e35_tt6&efg=eyJ2ZW5jb2RlX3RhZyI6IkNBUk9VU0VMX0lURU0uaW1hZ2VfdXJsZ2VuLjEwODB4MTM1MC5zZHIuZjc1NzYxLmRlZmF1bHRfaW1hZ2UifQ&_nc_ht=scontent-ssn1-1.cdninstagram.com&_nc_cat=107&_nc_oc=Q6cZ2QHnRCt0D-RtQeuoJbJh6SM7Bwmpx97t8l4-ZVqZIsGu08s0l-d9-Q-a0YIa516f52k&_nc_ohc=C0899melvDYQ7kNvwGjezR6&_nc_gid=7wUktkUymrET9L8xWZLTWw&edm=APs17CUBAAAA&ccb=7-5&ig_cache_key=MzYxNjI4OTYzNjgzMDk5NDczNQ%3D%3D.3-ccb7-5&oh=00_AfI7eGcYhbVBWwunUb_K0KR_rm1FAMgDtCxwWv95hR_NMw&oe=6830AFE3&_nc_sid=10d13b', 'https://scontent-ssn1-1.cdninstagram.com/v/t51.2885-15/491492993_18401157202101439_6832099202710751717_n.jpg?stp=dst-jpg_e35_tt6&efg=eyJ2ZW5jb2RlX3RhZyI6IkNBUk9VU0VMX0lURU0uaW1hZ2VfdXJsZ2VuLjEwODB4MTM1MC5zZHIuZjc1NzYxLmRlZmF1bHRfaW1hZ2UifQ&_nc_ht=scontent-ssn1-1.cdninstagram.com&_nc_cat=107&_nc_oc=Q6cZ2QHnRCt0D-RtQeuoJbJh6SM7Bwmpx97t8l4-ZVqZIsGu08s0l-d9-Q-a0YIa516f52k&_nc_ohc=l2bfuL0XNnIQ7kNvwG5aQJ-&_nc_gid=7wUktkUymrET9L8xWZLTWw&edm=APs17CUBAAAA&ccb=7-5&ig_cache_key=MzYxNjI4OTYzNjgyMjc0MDM0MA%3D%3D.3-ccb7-5&oh=00_AfKjyKtUkZFUR-VhyHg6GsQ2fQe0PR1jBQZTU8jLpnE_Eg&oe=6830B710&_nc_sid=10d13b', 'https://scontent-ssn1-1.cdninstagram.com/v/t51.2885-15/491422284_18401157211101439_826265311432387398_n.jpg?stp=dst-jpg_e35_tt6&efg=eyJ2ZW5jb2RlX3RhZyI6IkNBUk9VU0VMX0lURU0uaW1hZ2VfdXJsZ2VuLjEwODB4MTM1MC5zZHIuZjc1NzYxLmRlZmF1bHRfaW1hZ2UifQ&_nc_ht=scontent-ssn1-1.cdninstagram.com&_nc_cat=107&_nc_oc=Q6cZ2QHnRCt0D-RtQeuoJbJh6SM7Bwmpx97t8l4-ZVqZIsGu08s0l-d9-Q-a0YIa516f52k&_nc_ohc=1QQ2kTfNHKoQ7kNvwGYCl_G&_nc_gid=7wUktkUymrET9L8xWZLTWw&edm=APs17CUBAAAA&ccb=7-5&ig_cache_key=MzYxNjI4OTYzNjYyMTM5NTIxOA%3D%3D.3-ccb7-5&oh=00_AfJuE-gzNqMJiFqctVtvZ-69xBnb6je2AYYyoo74cBfxeA&oe=6830A516&_nc_sid=10d13b']"
        ],
        [
         "2",
         "hong_sool",
         "마포구 13년차 거주민이 말아주는💚연남 데이트코스 17💚n번째 재방문한 찐만 슬쩍 찔러줬다,,사람 더 많아지는건 싫은데좋은건 공유해야 하는거니까..!!맛집이랑 카페는 물론이고네컷사진과 가챠샵&소품샵까지풀코스로 안내하니깐 저장 ㄱㄱ😎👍 MBTI 'P'태그@@..",
         "['#연남동맛집추천', '#연남동맛집', '#홍대맛집', '#연남카페', '#홍대핫플']",
         "2025-04-30",
         "683",
         "['https://scontent-ssn1-1.cdninstagram.com/v/t39.30808-6/492521958_987263270284853_5954294178925282851_n.jpg?stp=dst-jpg_e35_tt6&efg=eyJ2ZW5jb2RlX3RhZyI6IkNBUk9VU0VMX0lURU0uaW1hZ2VfdXJsZ2VuLjEwODB4MTM1MC5zZHIuZjMwODA4LmRlZmF1bHRfaW1hZ2UifQ&_nc_ht=scontent-ssn1-1.cdninstagram.com&_nc_cat=105&_nc_oc=Q6cZ2QFS1nQDBg2qAK0ehRo1XtDuLBYxRreLUUb80gJXOFXe5EpcSAeZM2EjfTZtgiolTaE&_nc_ohc=plEnu8Paqr4Q7kNvwERKs55&_nc_gid=lhELizgoFAjNq50JGtDU4w&edm=APs17CUAAAAA&ccb=7-5&ig_cache_key=MzYyMTg4MjE2Nzk4NzA0MDE1Ng%3D%3D.3-ccb7-5&oh=00_AfKyTI_3nndSEMG4OR_o_9x0maAUS-0LAPp8DTz9mS8xLQ&oe=6830947C&_nc_sid=10d13b', 'https://scontent-ssn1-1.cdninstagram.com/v/t39.30808-6/492475287_987263326951514_8374857177519860771_n.jpg?stp=dst-jpg_e35_tt6&efg=eyJ2ZW5jb2RlX3RhZyI6IkNBUk9VU0VMX0lURU0uaW1hZ2VfdXJsZ2VuLjEwODB4MTM1MC5zZHIuZjMwODA4LmRlZmF1bHRfaW1hZ2UifQ&_nc_ht=scontent-ssn1-1.cdninstagram.com&_nc_cat=102&_nc_oc=Q6cZ2QFS1nQDBg2qAK0ehRo1XtDuLBYxRreLUUb80gJXOFXe5EpcSAeZM2EjfTZtgiolTaE&_nc_ohc=47V5oOmcBYYQ7kNvwGg2kG3&_nc_gid=lhELizgoFAjNq50JGtDU4w&edm=APs17CUAAAAA&ccb=7-5&ig_cache_key=MzYyMTg4MjE2Nzc3NzU0MDQwMg%3D%3D.3-ccb7-5&oh=00_AfJjXsIDNW4Meh25XLYrF3bdbCztwViknLSLzla4xPtaDA&oe=6830A405&_nc_sid=10d13b', 'https://scontent-ssn1-1.cdninstagram.com/v/t39.30808-6/492475287_987263326951514_8374857177519860771_n.jpg?stp=dst-jpg_e35_tt6&efg=eyJ2ZW5jb2RlX3RhZyI6IkNBUk9VU0VMX0lURU0uaW1hZ2VfdXJsZ2VuLjEwODB4MTM1MC5zZHIuZjMwODA4LmRlZmF1bHRfaW1hZ2UifQ&_nc_ht=scontent-ssn1-1.cdninstagram.com&_nc_cat=102&_nc_oc=Q6cZ2QFS1nQDBg2qAK0ehRo1XtDuLBYxRreLUUb80gJXOFXe5EpcSAeZM2EjfTZtgiolTaE&_nc_ohc=47V5oOmcBYYQ7kNvwGg2kG3&_nc_gid=lhELizgoFAjNq50JGtDU4w&edm=APs17CUAAAAA&ccb=7-5&ig_cache_key=MzYyMTg4MjE2Nzc3NzU0MDQwMg%3D%3D.3-ccb7-5&oh=00_AfJjXsIDNW4Meh25XLYrF3bdbCztwViknLSLzla4xPtaDA&oe=6830A405&_nc_sid=10d13b', 'https://scontent-ssn1-1.cdninstagram.com/v/t39.30808-6/493406316_987263416951505_5050043524894466362_n.jpg?stp=dst-jpg_e35_tt6&efg=eyJ2ZW5jb2RlX3RhZyI6IkNBUk9VU0VMX0lURU0uaW1hZ2VfdXJsZ2VuLjEwODB4MTM1MC5zZHIuZjMwODA4LmRlZmF1bHRfaW1hZ2UifQ&_nc_ht=scontent-ssn1-1.cdninstagram.com&_nc_cat=105&_nc_oc=Q6cZ2QFS1nQDBg2qAK0ehRo1XtDuLBYxRreLUUb80gJXOFXe5EpcSAeZM2EjfTZtgiolTaE&_nc_ohc=uM2XRhCujNwQ7kNvwGnt9P1&_nc_gid=lhELizgoFAjNq50JGtDU4w&edm=APs17CUAAAAA&ccb=7-5&ig_cache_key=MzYyMTg4MjE2NzY1OTk5NTYyMw%3D%3D.3-ccb7-5&oh=00_AfI7P04ZEPxaik06cJM9e0PmDewjyrV7IfwlNfSEV2xbWQ&oe=6830A786&_nc_sid=10d13b', 'https://scontent-ssn1-1.cdninstagram.com/v/t39.30808-6/492553110_987263340284846_2680766198924895958_n.jpg?stp=dst-jpg_e35_tt6&efg=eyJ2ZW5jb2RlX3RhZyI6IkNBUk9VU0VMX0lURU0uaW1hZ2VfdXJsZ2VuLjEwODB4MTM1MC5zZHIuZjMwODA4LmRlZmF1bHRfaW1hZ2UifQ&_nc_ht=scontent-ssn1-1.cdninstagram.com&_nc_cat=102&_nc_oc=Q6cZ2QFS1nQDBg2qAK0ehRo1XtDuLBYxRreLUUb80gJXOFXe5EpcSAeZM2EjfTZtgiolTaE&_nc_ohc=o3YdzwJTg3QQ7kNvwEYx09N&_nc_gid=lhELizgoFAjNq50JGtDU4w&edm=APs17CUAAAAA&ccb=7-5&ig_cache_key=MzYyMTg4MjE2ODMwNTgzMjEyNw%3D%3D.3-ccb7-5&oh=00_AfI6CFFkFVgsTo7CtAmTzN7EOApHznCheNXVDP42iXLwEA&oe=6830A637&_nc_sid=10d13b', 'https://scontent-ssn1-1.cdninstagram.com/v/t39.30808-6/493010790_987263330284847_4514757774912925973_n.jpg?stp=dst-jpg_e35_tt6&efg=eyJ2ZW5jb2RlX3RhZyI6IkNBUk9VU0VMX0lURU0uaW1hZ2VfdXJsZ2VuLjEwODB4MTM1MC5zZHIuZjMwODA4LmRlZmF1bHRfaW1hZ2UifQ&_nc_ht=scontent-ssn1-1.cdninstagram.com&_nc_cat=111&_nc_oc=Q6cZ2QFS1nQDBg2qAK0ehRo1XtDuLBYxRreLUUb80gJXOFXe5EpcSAeZM2EjfTZtgiolTaE&_nc_ohc=ILqJgRm3sDUQ7kNvwGOpbn7&_nc_gid=lhELizgoFAjNq50JGtDU4w&edm=APs17CUAAAAA&ccb=7-5&ig_cache_key=MzYyMTg4MjE2Nzc3NzQ4OTI3Ng%3D%3D.3-ccb7-5&oh=00_AfLn0mtYF87Q-ASzIANE4753tzR3zApkKEYRmXQPL7Aiyw&oe=6830974F&_nc_sid=10d13b', 'https://scontent-ssn1-1.cdninstagram.com/v/t39.30808-6/492537169_987263336951513_7493133893502237169_n.jpg?stp=dst-jpg_e35_tt6&efg=eyJ2ZW5jb2RlX3RhZyI6IkNBUk9VU0VMX0lURU0uaW1hZ2VfdXJsZ2VuLjEwODB4MTM1MC5zZHIuZjMwODA4LmRlZmF1bHRfaW1hZ2UifQ&_nc_ht=scontent-ssn1-1.cdninstagram.com&_nc_cat=105&_nc_oc=Q6cZ2QFS1nQDBg2qAK0ehRo1XtDuLBYxRreLUUb80gJXOFXe5EpcSAeZM2EjfTZtgiolTaE&_nc_ohc=zNdYrBb8uD4Q7kNvwFXq-3Y&_nc_gid=lhELizgoFAjNq50JGtDU4w&edm=APs17CUAAAAA&ccb=7-5&ig_cache_key=MzYyMTg4MjE2NzM4MzI3MTY2OQ%3D%3D.3-ccb7-5&oh=00_AfKBq-NNSD8fV5oMroVcUEaIZcV43yfUZC5EJi1tA_GRFQ&oe=6830B779&_nc_sid=10d13b', 'https://scontent-ssn1-1.cdninstagram.com/v/t39.30808-6/492539848_987263346951512_4579541921012479364_n.jpg?stp=dst-jpg_e35_tt6&efg=eyJ2ZW5jb2RlX3RhZyI6IkNBUk9VU0VMX0lURU0uaW1hZ2VfdXJsZ2VuLjEwODB4MTM1MC5zZHIuZjMwODA4LmRlZmF1bHRfaW1hZ2UifQ&_nc_ht=scontent-ssn1-1.cdninstagram.com&_nc_cat=108&_nc_oc=Q6cZ2QFS1nQDBg2qAK0ehRo1XtDuLBYxRreLUUb80gJXOFXe5EpcSAeZM2EjfTZtgiolTaE&_nc_ohc=3AJhHK863DEQ7kNvwF8qp2n&_nc_gid=lhELizgoFAjNq50JGtDU4w&edm=APs17CUAAAAA&ccb=7-5&ig_cache_key=MzYyMTg4MjE2ODM5ODI2ODQwOQ%3D%3D.3-ccb7-5&oh=00_AfLeLfeApeBOlKrMYBI8N-iA5bjBjqeVKP8XR2HW1TcZZQ&oe=6830BB5E&_nc_sid=10d13b', 'https://scontent-ssn1-1.cdninstagram.com/v/t39.30808-6/492901401_987263400284840_581784873314039020_n.jpg?stp=dst-jpg_e35_tt6&efg=eyJ2ZW5jb2RlX3RhZyI6IkNBUk9VU0VMX0lURU0uaW1hZ2VfdXJsZ2VuLjEwODB4MTM1MC5zZHIuZjMwODA4LmRlZmF1bHRfaW1hZ2UifQ&_nc_ht=scontent-ssn1-1.cdninstagram.com&_nc_cat=108&_nc_oc=Q6cZ2QFS1nQDBg2qAK0ehRo1XtDuLBYxRreLUUb80gJXOFXe5EpcSAeZM2EjfTZtgiolTaE&_nc_ohc=QFVxekZLsZQQ7kNvwFNIWGU&_nc_gid=lhELizgoFAjNq50JGtDU4w&edm=APs17CUAAAAA&ccb=7-5&ig_cache_key=MzYyMTg4MjE2ODA2Mjc0ODc2Mg%3D%3D.3-ccb7-5&oh=00_AfJ93erfBRmAlE1mHW7oojiU9Z3hCjkgu5Vn5w5iMsHJtg&oe=6830B1B6&_nc_sid=10d13b', 'https://scontent-ssn1-1.cdninstagram.com/v/t39.30808-6/492617346_987263383618175_2782723581386905289_n.jpg?stp=dst-jpg_e35_tt6&efg=eyJ2ZW5jb2RlX3RhZyI6IkNBUk9VU0VMX0lURU0uaW1hZ2VfdXJsZ2VuLjEwODB4MTM1MC5zZHIuZjMwODA4LmRlZmF1bHRfaW1hZ2UifQ&_nc_ht=scontent-ssn1-1.cdninstagram.com&_nc_cat=111&_nc_oc=Q6cZ2QFS1nQDBg2qAK0ehRo1XtDuLBYxRreLUUb80gJXOFXe5EpcSAeZM2EjfTZtgiolTaE&_nc_ohc=Q1uN2JlJEr0Q7kNvwGAw-2l&_nc_gid=lhELizgoFAjNq50JGtDU4w&edm=APs17CUAAAAA&ccb=7-5&ig_cache_key=MzYyMTg4MjE2NzU4NDU3NzkzMw%3D%3D.3-ccb7-5&oh=00_AfK20qVUn63DT3AqIfPwHV6jpdCZ2uhOOrxiwcgcqK0QAA&oe=683087E6&_nc_sid=10d13b']"
        ],
        [
         "3",
         "trendy_stay",
         "연남동에 이렇게 감각 있는 곳들이 많아?🤔한 번 발을 들이면 두 번, 세 번 찾게 되는 매력의 동네 연남동. 감각적인 LP바에서 음악을 듣다가 교토 감성 가득한 디저트 카페로, 다시 파리지앵의 감성이 묻어나는 와인 바까지. 하루 종일 봐도 질리지 않는 이 매력적인 공간들을 만나보세요! 🎧오늘은 연남동만의 특별한 취향 저격 스팟들을 소개해드릴게요. 여러분의 취향을 저격할 단 한 곳, 어디가 될까요?▫️턴다운서비스 (@turn.down.service)・ 주소 : 서울 마포구 동교로50길 7 반지층▫️키츠네즈카 (@_kitsunezhka)・ 주소 : 서울 마포구 동교로51길 51 1층▫️롱베케이션 (@long_vacation.official)・ 주소 : 서울 마포구 동교로38길 33-10 2층▫️조앤도슨 (@joanddawson)・ 주소 : 서울 마포구 동교로41길 31 지층 좌측, 조앤도슨▫️쿠로코식당 (@kuroko_seoul)・ 주소 : 서울 마포구 동교로27길 83 1층▫️사루카메 (@sarukame_ramen)・ 주소 : 서울 마포구 연남로 15 1층▫️아디오도시 센 (@addiodosi_yeonnam)・ 주소 : 서울 마포구 동교로46길 7 지하▫️레이트체크아웃 (@latecheckout_kor)・ 주소 : 서울 마포구 동교로 262-9 2층Editor ・ MoobTitle Image ・ @turn.down.service /  Image ・ 각 업체 이미지Content curated by @trendy_stay",
         "[]",
         "2025-02-27",
         "1573",
         "['https://scontent-ssn1-1.cdninstagram.com/v/t51.2885-15/481071105_18379632250112289_3160511330302773620_n.jpg?stp=dst-jpg_e35_tt6&efg=eyJ2ZW5jb2RlX3RhZyI6IkNBUk9VU0VMX0lURU0uaW1hZ2VfdXJsZ2VuLjE0NDB4MTgwMC5zZHIuZjc1NzYxLmRlZmF1bHRfaW1hZ2UifQ&_nc_ht=scontent-ssn1-1.cdninstagram.com&_nc_cat=109&_nc_oc=Q6cZ2QHf96_LtV5vYW3DYuDxOFRMNQQJVTgu_5WC34wVoF_Xi1GcMz1U241WiLvJuC8R3GI&_nc_ohc=WT-MEZHeZNUQ7kNvwH1hmoe&_nc_gid=yqGZCQZhcXPGzi9cckPsoQ&edm=APs17CUBAAAA&ccb=7-5&ig_cache_key=MzU3NzA4NTkxNTExNzkxMDkxNQ%3D%3D.3-ccb7-5&oh=00_AfKUiA5-sWhZag_nD5-SnAdnYzHiAnHyizOk0xrfS3-vVA&oe=6830BDAD&_nc_sid=10d13b', 'https://scontent-ssn1-1.cdninstagram.com/v/t51.2885-15/481191661_18379632259112289_5536032672451943836_n.jpg?stp=dst-jpg_e35_tt6&efg=eyJ2ZW5jb2RlX3RhZyI6IkNBUk9VU0VMX0lURU0uaW1hZ2VfdXJsZ2VuLjEwODB4MTM1MC5zZHIuZjc1NzYxLmRlZmF1bHRfaW1hZ2UifQ&_nc_ht=scontent-ssn1-1.cdninstagram.com&_nc_cat=109&_nc_oc=Q6cZ2QHf96_LtV5vYW3DYuDxOFRMNQQJVTgu_5WC34wVoF_Xi1GcMz1U241WiLvJuC8R3GI&_nc_ohc=m7nObhwA0fQQ7kNvwGLmGbx&_nc_gid=yqGZCQZhcXPGzi9cckPsoQ&edm=APs17CUBAAAA&ccb=7-5&ig_cache_key=MzU3NzA4NTkxNTA1ODk4NzE0NQ%3D%3D.3-ccb7-5&oh=00_AfKfP_HTwyljB0YSUd-ude9qGOJQa3JCG4McX47-9Vfsuw&oe=683091C7&_nc_sid=10d13b', 'https://scontent-ssn1-1.cdninstagram.com/v/t51.2885-15/481191661_18379632259112289_5536032672451943836_n.jpg?stp=dst-jpg_e35_tt6&efg=eyJ2ZW5jb2RlX3RhZyI6IkNBUk9VU0VMX0lURU0uaW1hZ2VfdXJsZ2VuLjEwODB4MTM1MC5zZHIuZjc1NzYxLmRlZmF1bHRfaW1hZ2UifQ&_nc_ht=scontent-ssn1-1.cdninstagram.com&_nc_cat=109&_nc_oc=Q6cZ2QHf96_LtV5vYW3DYuDxOFRMNQQJVTgu_5WC34wVoF_Xi1GcMz1U241WiLvJuC8R3GI&_nc_ohc=m7nObhwA0fQQ7kNvwGLmGbx&_nc_gid=yqGZCQZhcXPGzi9cckPsoQ&edm=APs17CUBAAAA&ccb=7-5&ig_cache_key=MzU3NzA4NTkxNTA1ODk4NzE0NQ%3D%3D.3-ccb7-5&oh=00_AfKfP_HTwyljB0YSUd-ude9qGOJQa3JCG4McX47-9Vfsuw&oe=683091C7&_nc_sid=10d13b', 'https://scontent-ssn1-1.cdninstagram.com/v/t51.2885-15/481156807_18379632268112289_3042131992906902967_n.jpg?stp=dst-jpg_e35_tt6&efg=eyJ2ZW5jb2RlX3RhZyI6IkNBUk9VU0VMX0lURU0uaW1hZ2VfdXJsZ2VuLjEwODB4MTM1MC5zZHIuZjc1NzYxLmRlZmF1bHRfaW1hZ2UifQ&_nc_ht=scontent-ssn1-1.cdninstagram.com&_nc_cat=109&_nc_oc=Q6cZ2QHf96_LtV5vYW3DYuDxOFRMNQQJVTgu_5WC34wVoF_Xi1GcMz1U241WiLvJuC8R3GI&_nc_ohc=5a5vnEhis2cQ7kNvwGjK04q&_nc_gid=yqGZCQZhcXPGzi9cckPsoQ&edm=APs17CUBAAAA&ccb=7-5&ig_cache_key=MzU3NzA4NTkxNTA1OTE4MjAyOQ%3D%3D.3-ccb7-5&oh=00_AfKeSOsvdp1YrebuNuENPFci2EHgYLg1CUGjxf5KEdbXGw&oe=68309832&_nc_sid=10d13b', 'https://scontent-ssn1-1.cdninstagram.com/v/t51.2885-15/481790239_18379632283112289_6988905355627038146_n.jpg?stp=dst-jpg_e35_tt6&efg=eyJ2ZW5jb2RlX3RhZyI6IkNBUk9VU0VMX0lURU0uaW1hZ2VfdXJsZ2VuLjEwODB4MTM1MC5zZHIuZjc1NzYxLmRlZmF1bHRfaW1hZ2UifQ&_nc_ht=scontent-ssn1-1.cdninstagram.com&_nc_cat=109&_nc_oc=Q6cZ2QHf96_LtV5vYW3DYuDxOFRMNQQJVTgu_5WC34wVoF_Xi1GcMz1U241WiLvJuC8R3GI&_nc_ohc=yRBU1UwXtdEQ7kNvwEAAgM2&_nc_gid=yqGZCQZhcXPGzi9cckPsoQ&edm=APs17CUBAAAA&ccb=7-5&ig_cache_key=MzU3NzA4NTkxNTEwOTQ4OTM4Nw%3D%3D.3-ccb7-5&oh=00_AfIXfOzFHwdDWGHOjNkjdZ0TFaj56VJbIozmrqtQs-OtTA&oe=6830B28D&_nc_sid=10d13b', 'https://scontent-ssn1-1.cdninstagram.com/v/t51.2885-15/481130659_18379632286112289_4476396286945944060_n.jpg?stp=dst-jpg_e35_tt6&efg=eyJ2ZW5jb2RlX3RhZyI6IkNBUk9VU0VMX0lURU0uaW1hZ2VfdXJsZ2VuLjEwODB4MTM1MC5zZHIuZjc1NzYxLmRlZmF1bHRfaW1hZ2UifQ&_nc_ht=scontent-ssn1-1.cdninstagram.com&_nc_cat=109&_nc_oc=Q6cZ2QHf96_LtV5vYW3DYuDxOFRMNQQJVTgu_5WC34wVoF_Xi1GcMz1U241WiLvJuC8R3GI&_nc_ohc=HP4XmY_z-ewQ7kNvwELcT9Z&_nc_gid=yqGZCQZhcXPGzi9cckPsoQ&edm=APs17CUBAAAA&ccb=7-5&ig_cache_key=MzU3NzA4NTkxNTA2NzM5NTI4NA%3D%3D.3-ccb7-5&oh=00_AfIajkcg8wzclN-7ViA-Kc6MM9wNSgS1TIpiVUx5XablGA&oe=6830A3AD&_nc_sid=10d13b', 'https://scontent-ssn1-1.cdninstagram.com/v/t51.2885-15/481835126_18379632319112289_477097990866716400_n.jpg?stp=dst-jpg_e35_tt6&efg=eyJ2ZW5jb2RlX3RhZyI6IkNBUk9VU0VMX0lURU0uaW1hZ2VfdXJsZ2VuLjEwODB4MTM1MC5zZHIuZjc1NzYxLmRlZmF1bHRfaW1hZ2UifQ&_nc_ht=scontent-ssn1-1.cdninstagram.com&_nc_cat=109&_nc_oc=Q6cZ2QHf96_LtV5vYW3DYuDxOFRMNQQJVTgu_5WC34wVoF_Xi1GcMz1U241WiLvJuC8R3GI&_nc_ohc=ElyylfIMUHoQ7kNvwGeoxKl&_nc_gid=yqGZCQZhcXPGzi9cckPsoQ&edm=APs17CUBAAAA&ccb=7-5&ig_cache_key=MzU3NzA4NTkxNTI0MzUwMDkzNA%3D%3D.3-ccb7-5&oh=00_AfLNS_0WIb5pRRWis305AunrsFNX0dtERZ4X90_iXUxUMw&oe=68308C7D&_nc_sid=10d13b', 'https://scontent-ssn1-1.cdninstagram.com/v/t51.2885-15/482158475_18379632322112289_4930118821203046326_n.jpg?stp=dst-jpg_e35_tt6&efg=eyJ2ZW5jb2RlX3RhZyI6IkNBUk9VU0VMX0lURU0uaW1hZ2VfdXJsZ2VuLjEwODB4MTM1MC5zZHIuZjc1NzYxLmRlZmF1bHRfaW1hZ2UifQ&_nc_ht=scontent-ssn1-1.cdninstagram.com&_nc_cat=109&_nc_oc=Q6cZ2QHf96_LtV5vYW3DYuDxOFRMNQQJVTgu_5WC34wVoF_Xi1GcMz1U241WiLvJuC8R3GI&_nc_ohc=KlMo4HQicGUQ7kNvwEiNACW&_nc_gid=yqGZCQZhcXPGzi9cckPsoQ&edm=APs17CUBAAAA&ccb=7-5&ig_cache_key=MzU3NzA4NTkxNTA1OTE1NDkwNw%3D%3D.3-ccb7-5&oh=00_AfLWaieWTMVKN107S4Bu8kaVZPux1MNlJ2EYL0BDufzFgg&oe=68309ECF&_nc_sid=10d13b', 'https://scontent-ssn1-1.cdninstagram.com/v/t51.2885-15/481738841_18379632313112289_6357423869766144432_n.jpg?stp=dst-jpg_e35_tt6&efg=eyJ2ZW5jb2RlX3RhZyI6IkNBUk9VU0VMX0lURU0uaW1hZ2VfdXJsZ2VuLjEwODB4MTM1MC5zZHIuZjc1NzYxLmRlZmF1bHRfaW1hZ2UifQ&_nc_ht=scontent-ssn1-1.cdninstagram.com&_nc_cat=109&_nc_oc=Q6cZ2QHf96_LtV5vYW3DYuDxOFRMNQQJVTgu_5WC34wVoF_Xi1GcMz1U241WiLvJuC8R3GI&_nc_ohc=wDAgisidPgAQ7kNvwGxson5&_nc_gid=yqGZCQZhcXPGzi9cckPsoQ&edm=APs17CUBAAAA&ccb=7-5&ig_cache_key=MzU3NzA4NTkxNTExNzg3MDI2Mw%3D%3D.3-ccb7-5&oh=00_AfK1woIu6xMH-Syn1iQu7On_KKf5TY8PlfIgQbM4q0iZcA&oe=683093CC&_nc_sid=10d13b', 'https://scontent-ssn1-1.cdninstagram.com/v/t51.2885-15/482104890_18379632331112289_2455337624040195238_n.jpg?stp=dst-jpg_e35_tt6&efg=eyJ2ZW5jb2RlX3RhZyI6IkNBUk9VU0VMX0lURU0uaW1hZ2VfdXJsZ2VuLjEwODB4MTM1MC5zZHIuZjc1NzYxLmRlZmF1bHRfaW1hZ2UifQ&_nc_ht=scontent-ssn1-1.cdninstagram.com&_nc_cat=109&_nc_oc=Q6cZ2QHf96_LtV5vYW3DYuDxOFRMNQQJVTgu_5WC34wVoF_Xi1GcMz1U241WiLvJuC8R3GI&_nc_ohc=jr5AWzOfMY8Q7kNvwFmlluG&_nc_gid=yqGZCQZhcXPGzi9cckPsoQ&edm=APs17CUBAAAA&ccb=7-5&ig_cache_key=MzU3NzA4NTkxNTEwOTQ2NzAxOQ%3D%3D.3-ccb7-5&oh=00_AfJRxIOnovDyQIoYF0MEEk8TQjlCb4ECLrfrXNhmaVmXHA&oe=68309285&_nc_sid=10d13b']"
        ],
        [
         "4",
         "or__and",
         "연남동. 필러맞은듯한 낙지만취급한다는 미친낙지볶음집. 쫀득함이 머리울릴정도였어요. 맵달중독일으키는 직화양념맛까지. 낙지귀신들 총출동.바로저장각. 여긴 찐탱낙지러버들 천국이라고 말해도됩니다. 소면말아서 면치기하는데 낙지풍미가 덮쳐버리는느낌. 두세점만 잡아도 젓가락에 힘꽉들어가는 통통스러움. 아는사람은 격공할 톡 터지는식감이요. 낙지1짱맛집인정.소면사리추가는 꼭꼭.**연남동주당들이 낮술약속장소로 손꼽는곳. 일찍방문하시길 추천합니다.(킹계란말이+낙지전)활용해서 같이드세요. 낙지전위에 낙지볶음올리면 쫀득함 우주최강입니다. 씹어도씹어도 터지는 낙지육즙. 📌 @or__and📌홍대입구역 2번출구  마포구 동교동 204-57",
         "['#오얼앤드_연남동홍대', '#낙지낚찌📌서울', '#마포구맛집', '#홍대맛집', '#연남동맛집', '#홍대입구역맛집', '#연남동데이트', '#홍대데이트', '#낮술', '#낙지볶음맛집', '#낙지맛집', '#동교동맛집', '#연희동맛집']",
         "2022-05-18",
         "5만",
         "['https://scontent-ssn1-1.cdninstagram.com/v/t51.29350-15/281470193_1055758142045751_3479842347889772080_n.jpg?stp=dst-jpg_e35_tt6&efg=eyJ2ZW5jb2RlX3RhZyI6IkNBUk9VU0VMX0lURU0uaW1hZ2VfdXJsZ2VuLjExNTV4MTE0MS5zZHIuZjI5MzUwLmRlZmF1bHRfaW1hZ2UifQ&_nc_ht=scontent-ssn1-1.cdninstagram.com&_nc_cat=103&_nc_oc=Q6cZ2QFYdq3AQeI57y7sjT-Iyw_zUL4LP1GU7qWGnBEOKB-b6sR7dUp74OyOgBeBjRFNetM&_nc_ohc=xvpVEb8oE8UQ7kNvwFk3VBY&_nc_gid=JethF2T_zWGeJWtmYNehbQ&edm=APs17CUBAAAA&ccb=7-5&ig_cache_key=Mjg0MDg2MDYzNTU2OTY1NzI0Mw%3D%3D.3-ccb7-5&oh=00_AfL_afmaVH_fQlgp3k3VXdxW_e2Wi6ew-RTF5BcgjF0Qmw&oe=68308A82&_nc_sid=10d13b', 'https://scontent-ssn1-1.cdninstagram.com/v/t51.29350-15/281359344_1199837237494196_681221694109778483_n.jpg?stp=dst-jpg_e35_tt6&efg=eyJ2ZW5jb2RlX3RhZyI6IkNBUk9VU0VMX0lURU0uaW1hZ2VfdXJsZ2VuLjExNTV4MTE0MS5zZHIuZjI5MzUwLmRlZmF1bHRfaW1hZ2UifQ&_nc_ht=scontent-ssn1-1.cdninstagram.com&_nc_cat=108&_nc_oc=Q6cZ2QFYdq3AQeI57y7sjT-Iyw_zUL4LP1GU7qWGnBEOKB-b6sR7dUp74OyOgBeBjRFNetM&_nc_ohc=nm-9Up3lYKQQ7kNvwG0RhSR&_nc_gid=JethF2T_zWGeJWtmYNehbQ&edm=APs17CUBAAAA&ccb=7-5&ig_cache_key=Mjg0MDg2MDYzNTU3ODIyMTIwMQ%3D%3D.3-ccb7-5&oh=00_AfKVh0Hi7o2dYLAFtt9PbLWQH7EFMFCmaYBeO67r0q_cqQ&oe=68309DCB&_nc_sid=10d13b', 'https://scontent-ssn1-1.cdninstagram.com/v/t51.29350-15/281359344_1199837237494196_681221694109778483_n.jpg?stp=dst-jpg_e35_tt6&efg=eyJ2ZW5jb2RlX3RhZyI6IkNBUk9VU0VMX0lURU0uaW1hZ2VfdXJsZ2VuLjExNTV4MTE0MS5zZHIuZjI5MzUwLmRlZmF1bHRfaW1hZ2UifQ&_nc_ht=scontent-ssn1-1.cdninstagram.com&_nc_cat=108&_nc_oc=Q6cZ2QFYdq3AQeI57y7sjT-Iyw_zUL4LP1GU7qWGnBEOKB-b6sR7dUp74OyOgBeBjRFNetM&_nc_ohc=nm-9Up3lYKQQ7kNvwG0RhSR&_nc_gid=JethF2T_zWGeJWtmYNehbQ&edm=APs17CUBAAAA&ccb=7-5&ig_cache_key=Mjg0MDg2MDYzNTU3ODIyMTIwMQ%3D%3D.3-ccb7-5&oh=00_AfKVh0Hi7o2dYLAFtt9PbLWQH7EFMFCmaYBeO67r0q_cqQ&oe=68309DCB&_nc_sid=10d13b', 'https://scontent-ssn1-1.cdninstagram.com/v/t51.29350-15/281182768_323518093263098_1727266368208393745_n.jpg?stp=dst-jpg_e35_tt6&efg=eyJ2ZW5jb2RlX3RhZyI6IkNBUk9VU0VMX0lURU0uaW1hZ2VfdXJsZ2VuLjExNTV4MTE0MS5zZHIuZjI5MzUwLmRlZmF1bHRfaW1hZ2UifQ&_nc_ht=scontent-ssn1-1.cdninstagram.com&_nc_cat=102&_nc_oc=Q6cZ2QFYdq3AQeI57y7sjT-Iyw_zUL4LP1GU7qWGnBEOKB-b6sR7dUp74OyOgBeBjRFNetM&_nc_ohc=kPLdxSBRj4QQ7kNvwHSpsBn&_nc_gid=JethF2T_zWGeJWtmYNehbQ&edm=APs17CUBAAAA&ccb=7-5&ig_cache_key=Mjg0MDg2MDYzNTYyODMxNjM1Nw%3D%3D.3-ccb7-5&oh=00_AfJAjkO0l_RkFx6-9p4i-GkJfwNTi8PmHjJoXibrAoCcQA&oe=6830B46D&_nc_sid=10d13b', 'https://scontent-ssn1-1.cdninstagram.com/v/t51.29350-15/281930511_529644388705790_6894172629944751156_n.jpg?stp=dst-jpg_e35_tt6&efg=eyJ2ZW5jb2RlX3RhZyI6IkNBUk9VU0VMX0lURU0uaW1hZ2VfdXJsZ2VuLjExNTZ4MTE0NC5zZHIuZjI5MzUwLmRlZmF1bHRfaW1hZ2UifQ&_nc_ht=scontent-ssn1-1.cdninstagram.com&_nc_cat=102&_nc_oc=Q6cZ2QFYdq3AQeI57y7sjT-Iyw_zUL4LP1GU7qWGnBEOKB-b6sR7dUp74OyOgBeBjRFNetM&_nc_ohc=K9w4FUVk9YwQ7kNvwFbOLsh&_nc_gid=JethF2T_zWGeJWtmYNehbQ&edm=APs17CUBAAAA&ccb=7-5&ig_cache_key=Mjg0MDg2MDYzNTU3ODA4NzU0NA%3D%3D.3-ccb7-5&oh=00_AfJJdxDP0YvO9MoCVju5oQbfkSx8GIoD2EicguM_IBJvoA&oe=6830A9D0&_nc_sid=10d13b', 'https://scontent-ssn1-1.cdninstagram.com/v/t51.29350-15/281357620_1543879065995050_1919039436522115690_n.jpg?stp=dst-jpg_e35_tt6&efg=eyJ2ZW5jb2RlX3RhZyI6IkNBUk9VU0VMX0lURU0uaW1hZ2VfdXJsZ2VuLjExNTZ4MTE0My5zZHIuZjI5MzUwLmRlZmF1bHRfaW1hZ2UifQ&_nc_ht=scontent-ssn1-1.cdninstagram.com&_nc_cat=110&_nc_oc=Q6cZ2QFYdq3AQeI57y7sjT-Iyw_zUL4LP1GU7qWGnBEOKB-b6sR7dUp74OyOgBeBjRFNetM&_nc_ohc=7HxkrDPMgMMQ7kNvwGtzWMX&_nc_gid=JethF2T_zWGeJWtmYNehbQ&edm=APs17CUBAAAA&ccb=7-5&ig_cache_key=Mjg0MDg2MDYzNTU5NDkyOTk5NA%3D%3D.3-ccb7-5&oh=00_AfJtAZWoWP2kvtkwLhfQVGTVY2EzZkoULupNHQDmvXwVnw&oe=6830A21E&_nc_sid=10d13b', 'https://scontent-ssn1-1.cdninstagram.com/v/t51.29350-15/281422992_597751951344831_9066882005503235117_n.jpg?stp=dst-jpg_e35_tt6&efg=eyJ2ZW5jb2RlX3RhZyI6IkNBUk9VU0VMX0lURU0uaW1hZ2VfdXJsZ2VuLjExNTV4MTE0MS5zZHIuZjI5MzUwLmRlZmF1bHRfaW1hZ2UifQ&_nc_ht=scontent-ssn1-1.cdninstagram.com&_nc_cat=103&_nc_oc=Q6cZ2QFYdq3AQeI57y7sjT-Iyw_zUL4LP1GU7qWGnBEOKB-b6sR7dUp74OyOgBeBjRFNetM&_nc_ohc=1A3YBVygBeYQ7kNvwGC_TTK&_nc_gid=JethF2T_zWGeJWtmYNehbQ&edm=APs17CUBAAAA&ccb=7-5&ig_cache_key=Mjg0MDg2MDYzNTU3ODA0NjQ4MA%3D%3D.3-ccb7-5&oh=00_AfL80EGLvZ7pOBHjSLew17slY_Lzj-5HQErvJJGazOkfDg&oe=6830BF1D&_nc_sid=10d13b', 'https://scontent-ssn1-1.cdninstagram.com/v/t51.29350-15/281913196_1014468216126335_4587258546172731341_n.jpg?stp=dst-jpg_e35_tt6&efg=eyJ2ZW5jb2RlX3RhZyI6IkNBUk9VU0VMX0lURU0uaW1hZ2VfdXJsZ2VuLjExNTZ4MTE0Mi5zZHIuZjI5MzUwLmRlZmF1bHRfaW1hZ2UifQ&_nc_ht=scontent-ssn1-1.cdninstagram.com&_nc_cat=111&_nc_oc=Q6cZ2QFYdq3AQeI57y7sjT-Iyw_zUL4LP1GU7qWGnBEOKB-b6sR7dUp74OyOgBeBjRFNetM&_nc_ohc=26B9UbjxKkQQ7kNvwH6TKeJ&_nc_gid=JethF2T_zWGeJWtmYNehbQ&edm=APs17CUBAAAA&ccb=7-5&ig_cache_key=Mjg0MDg2MDYzNTU2OTY0NDAxMw%3D%3D.3-ccb7-5&oh=00_AfKTUISCXZrDFdHHQ60ULbdSYlbsjkl0nfbwSk1tazUZxg&oe=6830B4A6&_nc_sid=10d13b', 'https://scontent-ssn1-1.cdninstagram.com/v/t51.29350-15/281121557_406371011131520_6472900555773765752_n.jpg?stp=dst-jpg_e35_tt6&efg=eyJ2ZW5jb2RlX3RhZyI6IkNBUk9VU0VMX0lURU0uaW1hZ2VfdXJsZ2VuLjExNTZ4MTE0Mi5zZHIuZjI5MzUwLmRlZmF1bHRfaW1hZ2UifQ&_nc_ht=scontent-ssn1-1.cdninstagram.com&_nc_cat=108&_nc_oc=Q6cZ2QFYdq3AQeI57y7sjT-Iyw_zUL4LP1GU7qWGnBEOKB-b6sR7dUp74OyOgBeBjRFNetM&_nc_ohc=DIBlR8zuvoEQ7kNvwE1dXBV&_nc_gid=JethF2T_zWGeJWtmYNehbQ&edm=APs17CUBAAAA&ccb=7-5&ig_cache_key=Mjg0MDg2MDYzNTU3Nzk4ODU3NQ%3D%3D.3-ccb7-5&oh=00_AfI8fYjhaevHhBaElCRcBlGlPrvrexIOO4du5rVEUrjUdQ&oe=6830B479&_nc_sid=10d13b', 'https://scontent-ssn1-1.cdninstagram.com/v/t51.29350-15/281555620_185482950477172_31083810844265842_n.jpg?stp=dst-jpg_e35_tt6&efg=eyJ2ZW5jb2RlX3RhZyI6IkNBUk9VU0VMX0lURU0uaW1hZ2VfdXJsZ2VuLjExNTZ4MTE0NC5zZHIuZjI5MzUwLmRlZmF1bHRfaW1hZ2UifQ&_nc_ht=scontent-ssn1-1.cdninstagram.com&_nc_cat=104&_nc_oc=Q6cZ2QFYdq3AQeI57y7sjT-Iyw_zUL4LP1GU7qWGnBEOKB-b6sR7dUp74OyOgBeBjRFNetM&_nc_ohc=gxtwpOs9O6MQ7kNvwH8lHv-&_nc_gid=JethF2T_zWGeJWtmYNehbQ&edm=APs17CUBAAAA&ccb=7-5&ig_cache_key=Mjg0MDg2MDYzNTU5NDgyMzgyMQ%3D%3D.3-ccb7-5&oh=00_AfJM7z_RI8sOWR8xbE5uMdMFNMIXGLqMa3sdn9wK0Rn5Mw&oe=6830AA4B&_nc_sid=10d13b']"
        ],
        [
         "5",
         "all.about.seoul.trip",
         "✨요즘 사람들 연남동 가는 이유12✨돌고돌아 연남동만한 맛집동네 없다;;;이름에 '연, 남, 동' 들어가는 애@@✏️맛집*히사시돈부리(덮밥)*해피치즈스마일(분식)*그로어스(브런치)*초이다이닝(일식)*포가레(쌀국수)*요미우돈교자(우동)✏️카페*치플레(치즈케이크)*브레디포스트(프레즐)*멜팅오브(케이크)*앤티크커피(빵)*카시코이(당고)*파이인더샵(파이)",
         "['#연남동맛집', '#연남동카페', '#연남동핫플', '#연남동데이트', '#연남동']",
         "2024-07-10",
         "2093",
         "['https://scontent-ssn1-1.cdninstagram.com/v/t39.30808-6/486047143_1062798232542542_3512461522516367786_n.jpg?stp=dst-jpg_e35_tt6&efg=eyJ2ZW5jb2RlX3RhZyI6IkNBUk9VU0VMX0lURU0uaW1hZ2VfdXJsZ2VuLjEwODB4MTM1MC5zZHIuZjMwODA4LmRlZmF1bHRfaW1hZ2UifQ&_nc_ht=scontent-ssn1-1.cdninstagram.com&_nc_cat=102&_nc_oc=Q6cZ2QHepDWlU6stFM9SQTBZWf_NuMeW-DhbMMSsipQvXKlwEECmOjEDAVKJqrHyuJsCOMM&_nc_ohc=gH_GD6iNnuIQ7kNvwETowuV&_nc_gid=5LWNhibICpF0XvqNSE2TDg&edm=APs17CUAAAAA&ccb=7-5&ig_cache_key=MzQwODc5ODIwMDE2Mzk5NzM0MA%3D%3D.3-ccb7-5&oh=00_AfLeMT817YJUrI43DFbZF6GDNz7qXMuWT0Tytf92NozROg&oe=68308FB2&_nc_sid=10d13b', 'https://scontent-ssn1-1.cdninstagram.com/v/t39.30808-6/486014553_1062798099209222_2296418882121023727_n.jpg?stp=dst-jpg_e35_tt6&efg=eyJ2ZW5jb2RlX3RhZyI6IkNBUk9VU0VMX0lURU0uaW1hZ2VfdXJsZ2VuLjEwODB4MTM1MC5zZHIuZjMwODA4LmRlZmF1bHRfaW1hZ2UifQ&_nc_ht=scontent-ssn1-1.cdninstagram.com&_nc_cat=102&_nc_oc=Q6cZ2QHepDWlU6stFM9SQTBZWf_NuMeW-DhbMMSsipQvXKlwEECmOjEDAVKJqrHyuJsCOMM&_nc_ohc=GZDfhE9eQF8Q7kNvwHDxPiZ&_nc_gid=5LWNhibICpF0XvqNSE2TDg&edm=APs17CUAAAAA&ccb=7-5&ig_cache_key=MzQwODc5ODIwMDMyMzUwNDM5NQ%3D%3D.3-ccb7-5&oh=00_AfLMSzegD_MGnGIctjtXU2DudHK64GMU9Ca2ZnHMmxdL3w&oe=6830A2C0&_nc_sid=10d13b', 'https://scontent-ssn1-1.cdninstagram.com/v/t39.30808-6/486014553_1062798099209222_2296418882121023727_n.jpg?stp=dst-jpg_e35_tt6&efg=eyJ2ZW5jb2RlX3RhZyI6IkNBUk9VU0VMX0lURU0uaW1hZ2VfdXJsZ2VuLjEwODB4MTM1MC5zZHIuZjMwODA4LmRlZmF1bHRfaW1hZ2UifQ&_nc_ht=scontent-ssn1-1.cdninstagram.com&_nc_cat=102&_nc_oc=Q6cZ2QHepDWlU6stFM9SQTBZWf_NuMeW-DhbMMSsipQvXKlwEECmOjEDAVKJqrHyuJsCOMM&_nc_ohc=GZDfhE9eQF8Q7kNvwHDxPiZ&_nc_gid=5LWNhibICpF0XvqNSE2TDg&edm=APs17CUAAAAA&ccb=7-5&ig_cache_key=MzQwODc5ODIwMDMyMzUwNDM5NQ%3D%3D.3-ccb7-5&oh=00_AfLMSzegD_MGnGIctjtXU2DudHK64GMU9Ca2ZnHMmxdL3w&oe=6830A2C0&_nc_sid=10d13b', 'https://scontent-ssn1-1.cdninstagram.com/v/t39.30808-6/486148160_1062797995875899_7020999039017620317_n.jpg?stp=dst-jpg_e35_tt6&efg=eyJ2ZW5jb2RlX3RhZyI6IkNBUk9VU0VMX0lURU0uaW1hZ2VfdXJsZ2VuLjEwODB4MTM1MC5zZHIuZjMwODA4LmRlZmF1bHRfaW1hZ2UifQ&_nc_ht=scontent-ssn1-1.cdninstagram.com&_nc_cat=111&_nc_oc=Q6cZ2QHepDWlU6stFM9SQTBZWf_NuMeW-DhbMMSsipQvXKlwEECmOjEDAVKJqrHyuJsCOMM&_nc_ohc=RTy36Phd-h0Q7kNvwEI2Dfj&_nc_gid=5LWNhibICpF0XvqNSE2TDg&edm=APs17CUAAAAA&ccb=7-5&ig_cache_key=MzQwODc5ODIwMDgzNTIyMzk1NA%3D%3D.3-ccb7-5&oh=00_AfJLv9hwLsm_YQ03a7W8sI7vsZy2meEHQzNFD6hZf3DwkA&oe=68309275&_nc_sid=10d13b', 'https://scontent-ssn1-1.cdninstagram.com/v/t39.30808-6/486148996_1062797812542584_7205727485169675416_n.jpg?stp=dst-jpg_e35_tt6&efg=eyJ2ZW5jb2RlX3RhZyI6IkNBUk9VU0VMX0lURU0uaW1hZ2VfdXJsZ2VuLjEwODB4MTM1MC5zZHIuZjMwODA4LmRlZmF1bHRfaW1hZ2UifQ&_nc_ht=scontent-ssn1-1.cdninstagram.com&_nc_cat=108&_nc_oc=Q6cZ2QHepDWlU6stFM9SQTBZWf_NuMeW-DhbMMSsipQvXKlwEECmOjEDAVKJqrHyuJsCOMM&_nc_ohc=K--xgQ17lfEQ7kNvwGwhfaK&_nc_gid=5LWNhibICpF0XvqNSE2TDg&edm=APs17CUAAAAA&ccb=7-5&ig_cache_key=MzQwODc5ODIwMDU5MTk3MTY4Nw%3D%3D.3-ccb7-5&oh=00_AfJA9uvF2HSNF-iqXx5SQK4DMVJyr_TLWqicAhRaZrzeeg&oe=68309698&_nc_sid=10d13b', 'https://scontent-ssn1-1.cdninstagram.com/v/t39.30808-6/485846147_1062798059209226_3782983892665651442_n.jpg?stp=dst-jpg_e35_tt6&efg=eyJ2ZW5jb2RlX3RhZyI6IkNBUk9VU0VMX0lURU0uaW1hZ2VfdXJsZ2VuLjEwODB4MTM1MC5zZHIuZjMwODA4LmRlZmF1bHRfaW1hZ2UifQ&_nc_ht=scontent-ssn1-1.cdninstagram.com&_nc_cat=102&_nc_oc=Q6cZ2QHepDWlU6stFM9SQTBZWf_NuMeW-DhbMMSsipQvXKlwEECmOjEDAVKJqrHyuJsCOMM&_nc_ohc=PFhQ6aqM1NIQ7kNvwFJDF1x&_nc_gid=5LWNhibICpF0XvqNSE2TDg&edm=APs17CUAAAAA&ccb=7-5&ig_cache_key=MzQwODc5ODIwMDk3Nzc1NDI1Mw%3D%3D.3-ccb7-5&oh=00_AfK9m9fmzjY2d91-t4GqKq6oZeGDYQVQG-c30TZWEXGXIg&oe=6830B0F7&_nc_sid=10d13b', 'https://scontent-ssn1-1.cdninstagram.com/v/t39.30808-6/486016692_1062798262542539_6670597529240915354_n.jpg?stp=dst-jpg_e35_tt6&efg=eyJ2ZW5jb2RlX3RhZyI6IkNBUk9VU0VMX0lURU0uaW1hZ2VfdXJsZ2VuLjEwODB4MTM1MC5zZHIuZjMwODA4LmRlZmF1bHRfaW1hZ2UifQ&_nc_ht=scontent-ssn1-1.cdninstagram.com&_nc_cat=111&_nc_oc=Q6cZ2QHepDWlU6stFM9SQTBZWf_NuMeW-DhbMMSsipQvXKlwEECmOjEDAVKJqrHyuJsCOMM&_nc_ohc=V3oTlwgNzN4Q7kNvwH01WPY&_nc_gid=5LWNhibICpF0XvqNSE2TDg&edm=APs17CUAAAAA&ccb=7-5&ig_cache_key=MzQwODc5ODIwMDE2NDIzNjczNQ%3D%3D.3-ccb7-5&oh=00_AfKj63SAvkxwFYwQeR9pe20mTgW1NXqMr10iyb3mLAOGxw&oe=6830B9FA&_nc_sid=10d13b', 'https://scontent-ssn1-1.cdninstagram.com/v/t39.30808-6/486148774_1062797992542566_2680715562407201816_n.jpg?stp=dst-jpg_e35_tt6&efg=eyJ2ZW5jb2RlX3RhZyI6IkNBUk9VU0VMX0lURU0uaW1hZ2VfdXJsZ2VuLjEwODB4MTM1MC5zZHIuZjMwODA4LmRlZmF1bHRfaW1hZ2UifQ&_nc_ht=scontent-ssn1-1.cdninstagram.com&_nc_cat=102&_nc_oc=Q6cZ2QHepDWlU6stFM9SQTBZWf_NuMeW-DhbMMSsipQvXKlwEECmOjEDAVKJqrHyuJsCOMM&_nc_ohc=qK2n9JpM6LoQ7kNvwGo3F5q&_nc_gid=5LWNhibICpF0XvqNSE2TDg&edm=APs17CUAAAAA&ccb=7-5&ig_cache_key=MzQwODc5ODIwMDIwNTk4NDMzMg%3D%3D.3-ccb7-5&oh=00_AfIJlLbyOgQV6cW0OCCv-_e6uKNvkp8RReebVEUTajrrNA&oe=6830B3D9&_nc_sid=10d13b', 'https://scontent-ssn1-1.cdninstagram.com/v/t39.30808-6/486343457_1062797769209255_2974190513357667867_n.jpg?stp=dst-jpg_e35_tt6&efg=eyJ2ZW5jb2RlX3RhZyI6IkNBUk9VU0VMX0lURU0uaW1hZ2VfdXJsZ2VuLjEwODB4MTM1MC5zZHIuZjMwODA4LmRlZmF1bHRfaW1hZ2UifQ&_nc_ht=scontent-ssn1-1.cdninstagram.com&_nc_cat=111&_nc_oc=Q6cZ2QHepDWlU6stFM9SQTBZWf_NuMeW-DhbMMSsipQvXKlwEECmOjEDAVKJqrHyuJsCOMM&_nc_ohc=7IJ8fIVItPwQ7kNvwGhbR-s&_nc_gid=5LWNhibICpF0XvqNSE2TDg&edm=APs17CUAAAAA&ccb=7-5&ig_cache_key=MzQwODc5ODIwMDExMzg2NzY3NQ%3D%3D.3-ccb7-5&oh=00_AfLfS2IXKvQREe2FVwdwQCF4OJ9ugAVO4CygEtfHlBzCoA&oe=6830BC5D&_nc_sid=10d13b', 'https://scontent-ssn1-1.cdninstagram.com/v/t39.30808-6/485718558_1062798009209231_8676504871519623825_n.jpg?stp=dst-jpg_e35_tt6&efg=eyJ2ZW5jb2RlX3RhZyI6IkNBUk9VU0VMX0lURU0uaW1hZ2VfdXJsZ2VuLjEwODB4MTM1MC5zZHIuZjMwODA4LmRlZmF1bHRfaW1hZ2UifQ&_nc_ht=scontent-ssn1-1.cdninstagram.com&_nc_cat=111&_nc_oc=Q6cZ2QHepDWlU6stFM9SQTBZWf_NuMeW-DhbMMSsipQvXKlwEECmOjEDAVKJqrHyuJsCOMM&_nc_ohc=SLhrIhbuiOIQ7kNvwET3iu0&_nc_gid=5LWNhibICpF0XvqNSE2TDg&edm=APs17CUAAAAA&ccb=7-5&ig_cache_key=MzQwODc5ODIwMDEyMjMwMjc0Mg%3D%3D.3-ccb7-5&oh=00_AfKEyGphEjo3ZvQJijcd7qaE-_dSWevKHQMZ0uogiH3rYg&oe=6830A27C&_nc_sid=10d13b']"
        ],
        [
         "6",
         "seoul_thehotple",
         "서울에서 오코노미야끼 제일 잘하는 곳을 소개한다.연남동 끝자락, 오코노미야끼 맛집  은 이미 입소문난 맛있는 오꼬노미야끼 그리고 친절하신 사장님 덕에 항상 웨이팅이 있는 곳. 하지만 한 입 맛 보는 순간, 웨이팅 하는 이유를 알게 될 것이다.일본 식당 감성을 그대로 살린 공간에서 먹는 오꼬노미야끼의 맛은 상상 그 이상이다.특색있게 히로시마 스타일과 오사카 스타일로 나눠서 요리해주며, 그 외 모단야키, 돈페이야키 등 다양한 방식으로 즐길 수 있다. 가게 벽면에 그림으로 설명이 나와있으니 참고하길. 물론 사장님이 메뉴를 하나하나 설명하고 주문을 받아주신다.히로시마 스타일은 재료를 쌓아올리는 형태로, 사장님께서 날마다 조금씩 다른 토핑을 올려주는 재미가 있다.한 눈에 봐도 다양한 재료가 들어가 있어 식감 또한 다채로우며, 가격에 비해 양도 넉넉한데 모자라면 더 추가도 해주신다.야끼소바는 오코노미야끼와 비슷하지만 목이버섯, 청경채 등 조금은 다른 재료들로 구성. 먹어보길 추천!타코야키도 문어가 큼직하게 들어있어 쫄깃하고, 따뜻한 타코야키를 나오자마자 한 입 먹으면 맛이 없을 수가 없다.제대로 된 오코노미야끼를 맛보고 싶다면, 가격, 맛, 친절 모두 훌륭한 이곳에서 맛있는 한 끼를 즐겨보자.@ 연남동 맛집 중에 맛집인 이곳을 알려주세요!📍 서울 마포구 성미산로17길 99📍 매일 15:00 - 22:00📍 일 14:00 - 19:00📍 2, 4, 5째주 일요일 휴무함께 추억을 공유한 사람들1,8.@moonbyj 2,3,9.@ego._.mashitta 4,5,7.@luckyklee 6.@joraengyiddeok 10.@hollys_je ※ 프로필 링크에서 전국의 더핫플과 더핫플모음집(@thehotple.zip)을 만나볼 수 있습니다.",
         "['#소점', '#더핫플_연남동', '#서울맛집', '#연남동맛집', '#서울가볼만한곳', '#서울데이트코스', '#서울데이트', '#서울명소', '#주말데이트', '#연남동일식당', '#연남동오코노미야끼', '#서울오코노미야끼', '#웨이팅맛집', '#연남동오코노미야키', '#오코노미야끼맛집', '#연남동신상맛집']",
         "2022-04-27",
         "1.5만",
         "['https://scontent-ssn1-1.cdninstagram.com/v/t51.29350-15/279408269_951666102210766_8156475793077739240_n.webp?stp=dst-jpg_e35_tt6&efg=eyJ2ZW5jb2RlX3RhZyI6IkNBUk9VU0VMX0lURU0uaW1hZ2VfdXJsZ2VuLjcwMHg4NzQuc2RyLmYyOTM1MC5kZWZhdWx0X2ltYWdlIn0&_nc_ht=scontent-ssn1-1.cdninstagram.com&_nc_cat=110&_nc_oc=Q6cZ2QFQkup_rXcrukjHB6pdWygxbYv9hdPgnEVdoK9kVvOOZ1VwAYF3GmdPEAKvYJ85a94&_nc_ohc=XsUW8Czu8BgQ7kNvwEN2C8r&_nc_gid=3pQNn-fmYxKwxkOmGx-1BA&edm=APs17CUBAAAA&ccb=7-5&ig_cache_key=MjgyNTUwODI4NzU5NTA5NDQ4OA%3D%3D.3-ccb7-5&oh=00_AfJXnxDXfArh0paKvwrCBuX6NqBT7XSNdpTaDxfKYe4qmQ&oe=6830A868&_nc_sid=10d13b', 'https://scontent-ssn1-1.cdninstagram.com/v/t51.29350-15/279163861_2199668103528188_7695081475102748646_n.webp?stp=dst-jpg_e35_tt6&efg=eyJ2ZW5jb2RlX3RhZyI6IkNBUk9VU0VMX0lURU0uaW1hZ2VfdXJsZ2VuLjcwMHg4NzQuc2RyLmYyOTM1MC5kZWZhdWx0X2ltYWdlIn0&_nc_ht=scontent-ssn1-1.cdninstagram.com&_nc_cat=108&_nc_oc=Q6cZ2QFQkup_rXcrukjHB6pdWygxbYv9hdPgnEVdoK9kVvOOZ1VwAYF3GmdPEAKvYJ85a94&_nc_ohc=X7bcmzdsvWcQ7kNvwH6buDg&_nc_gid=3pQNn-fmYxKwxkOmGx-1BA&edm=APs17CUBAAAA&ccb=7-5&ig_cache_key=MjgyNTUwODI4NzI1OTQ2MDMxOQ%3D%3D.3-ccb7-5&oh=00_AfKjRYEd6-K2BB85kkculXhVO-b4YScVxLUDecQHM5DJrg&oe=68309C9D&_nc_sid=10d13b', 'https://scontent-ssn1-1.cdninstagram.com/v/t51.29350-15/279163861_2199668103528188_7695081475102748646_n.webp?stp=dst-jpg_e35_tt6&efg=eyJ2ZW5jb2RlX3RhZyI6IkNBUk9VU0VMX0lURU0uaW1hZ2VfdXJsZ2VuLjcwMHg4NzQuc2RyLmYyOTM1MC5kZWZhdWx0X2ltYWdlIn0&_nc_ht=scontent-ssn1-1.cdninstagram.com&_nc_cat=108&_nc_oc=Q6cZ2QFQkup_rXcrukjHB6pdWygxbYv9hdPgnEVdoK9kVvOOZ1VwAYF3GmdPEAKvYJ85a94&_nc_ohc=X7bcmzdsvWcQ7kNvwH6buDg&_nc_gid=3pQNn-fmYxKwxkOmGx-1BA&edm=APs17CUBAAAA&ccb=7-5&ig_cache_key=MjgyNTUwODI4NzI1OTQ2MDMxOQ%3D%3D.3-ccb7-5&oh=00_AfKjRYEd6-K2BB85kkculXhVO-b4YScVxLUDecQHM5DJrg&oe=68309C9D&_nc_sid=10d13b', 'https://scontent-ssn1-1.cdninstagram.com/v/t51.29350-15/279277314_571795130974919_5709021747203651398_n.webp?stp=dst-jpg_e35_tt6&efg=eyJ2ZW5jb2RlX3RhZyI6IkNBUk9VU0VMX0lURU0uaW1hZ2VfdXJsZ2VuLjcwMHg4NzQuc2RyLmYyOTM1MC5kZWZhdWx0X2ltYWdlIn0&_nc_ht=scontent-ssn1-1.cdninstagram.com&_nc_cat=111&_nc_oc=Q6cZ2QFQkup_rXcrukjHB6pdWygxbYv9hdPgnEVdoK9kVvOOZ1VwAYF3GmdPEAKvYJ85a94&_nc_ohc=uYigGzZhbXgQ7kNvwEk1qkw&_nc_gid=3pQNn-fmYxKwxkOmGx-1BA&edm=APs17CUBAAAA&ccb=7-5&ig_cache_key=MjgyNTUwODI4NzY1MzgzNzc5Ng%3D%3D.3-ccb7-5&oh=00_AfIXIbzxk4BpxA5QaPJBrgtJ_Te0PWgq4ZUcqQC3jvYPVw&oe=6830BC2A&_nc_sid=10d13b', 'https://scontent-ssn1-1.cdninstagram.com/v/t51.29350-15/279268938_396028712147327_2699935962270582991_n.webp?stp=dst-jpg_e35_tt6&efg=eyJ2ZW5jb2RlX3RhZyI6IkNBUk9VU0VMX0lURU0uaW1hZ2VfdXJsZ2VuLjcwMHg4NzQuc2RyLmYyOTM1MC5kZWZhdWx0X2ltYWdlIn0&_nc_ht=scontent-ssn1-1.cdninstagram.com&_nc_cat=111&_nc_oc=Q6cZ2QFQkup_rXcrukjHB6pdWygxbYv9hdPgnEVdoK9kVvOOZ1VwAYF3GmdPEAKvYJ85a94&_nc_ohc=FK9FJ_6lGYMQ7kNvwGVdzsh&_nc_gid=3pQNn-fmYxKwxkOmGx-1BA&edm=APs17CUBAAAA&ccb=7-5&ig_cache_key=MjgyNTUwODI4NzI1OTM4NDk5OA%3D%3D.3-ccb7-5&oh=00_AfK19nOQB3UBf1DJKJQIeY04IfJ_CDNUag8U3TEQKvKLiA&oe=6830BD33&_nc_sid=10d13b', 'https://scontent-ssn1-1.cdninstagram.com/v/t51.29350-15/279440757_520462269705100_1668886019473238311_n.webp?stp=dst-jpg_e35_tt6&efg=eyJ2ZW5jb2RlX3RhZyI6IkNBUk9VU0VMX0lURU0uaW1hZ2VfdXJsZ2VuLjcwMHg4NzQuc2RyLmYyOTM1MC5kZWZhdWx0X2ltYWdlIn0&_nc_ht=scontent-ssn1-1.cdninstagram.com&_nc_cat=104&_nc_oc=Q6cZ2QFQkup_rXcrukjHB6pdWygxbYv9hdPgnEVdoK9kVvOOZ1VwAYF3GmdPEAKvYJ85a94&_nc_ohc=CK3UmPbLpegQ7kNvwHoowFH&_nc_gid=3pQNn-fmYxKwxkOmGx-1BA&edm=APs17CUBAAAA&ccb=7-5&ig_cache_key=MjgyNTUwODI4NzU3ODE1NjgwOA%3D%3D.3-ccb7-5&oh=00_AfIT7nuHdDwAxxB5u7mMAk7M6_cwNQFDbr3t1rP47mirjw&oe=68309706&_nc_sid=10d13b', 'https://scontent-ssn1-1.cdninstagram.com/v/t51.29350-15/279316592_142988851602852_6603159345729956210_n.webp?stp=dst-jpg_e35_tt6&efg=eyJ2ZW5jb2RlX3RhZyI6IkNBUk9VU0VMX0lURU0uaW1hZ2VfdXJsZ2VuLjcwMHg4NzQuc2RyLmYyOTM1MC5kZWZhdWx0X2ltYWdlIn0&_nc_ht=scontent-ssn1-1.cdninstagram.com&_nc_cat=100&_nc_oc=Q6cZ2QFQkup_rXcrukjHB6pdWygxbYv9hdPgnEVdoK9kVvOOZ1VwAYF3GmdPEAKvYJ85a94&_nc_ohc=myyoxoT0MiMQ7kNvwHDo_44&_nc_gid=3pQNn-fmYxKwxkOmGx-1BA&edm=APs17CUBAAAA&ccb=7-5&ig_cache_key=MjgyNTUwODI4NzU2OTc0MDU5OQ%3D%3D.3-ccb7-5&oh=00_AfJCgcwxyDF-8jOcYeyEM6RwML4UwQttYPR-Qg3Bp0-ztg&oe=6830AB93&_nc_sid=10d13b', 'https://scontent-ssn1-1.cdninstagram.com/v/t51.29350-15/279186383_538986064284495_1496098431382416204_n.webp?stp=dst-jpg_e35_tt6&efg=eyJ2ZW5jb2RlX3RhZyI6IkNBUk9VU0VMX0lURU0uaW1hZ2VfdXJsZ2VuLjcwMHg4NzQuc2RyLmYyOTM1MC5kZWZhdWx0X2ltYWdlIn0&_nc_ht=scontent-ssn1-1.cdninstagram.com&_nc_cat=103&_nc_oc=Q6cZ2QFQkup_rXcrukjHB6pdWygxbYv9hdPgnEVdoK9kVvOOZ1VwAYF3GmdPEAKvYJ85a94&_nc_ohc=IdiW6qHt49UQ7kNvwGvQvau&_nc_gid=3pQNn-fmYxKwxkOmGx-1BA&edm=APs17CUBAAAA&ccb=7-5&ig_cache_key=MjgyNTUwODI4NzMwMTMyMjM2Ng%3D%3D.3-ccb7-5&oh=00_AfJ2oByvgRBYDKyfQe-qmjoELwweocTJZalE9kGD7VyDUg&oe=68308FB1&_nc_sid=10d13b', 'https://scontent-ssn1-1.cdninstagram.com/v/t51.29350-15/279143589_143268238263707_7158808702927907691_n.webp?stp=dst-jpg_e35_tt6&efg=eyJ2ZW5jb2RlX3RhZyI6IkNBUk9VU0VMX0lURU0uaW1hZ2VfdXJsZ2VuLjcwMHg4NzQuc2RyLmYyOTM1MC5kZWZhdWx0X2ltYWdlIn0&_nc_ht=scontent-ssn1-1.cdninstagram.com&_nc_cat=111&_nc_oc=Q6cZ2QFQkup_rXcrukjHB6pdWygxbYv9hdPgnEVdoK9kVvOOZ1VwAYF3GmdPEAKvYJ85a94&_nc_ohc=2JirXk1zv1oQ7kNvwFt9WKd&_nc_gid=3pQNn-fmYxKwxkOmGx-1BA&edm=APs17CUBAAAA&ccb=7-5&ig_cache_key=MjgyNTUwODI4NzYwMzQyMjc1NA%3D%3D.3-ccb7-5&oh=00_AfKwvNICZSIu6JQk5ZSwcldaaC1WroilkGZG8Ro5YaSp-g&oe=68308F9D&_nc_sid=10d13b', 'https://scontent-ssn1-1.cdninstagram.com/v/t51.29350-15/279334588_690107235571916_9069914910666599493_n.webp?stp=dst-jpg_e35_tt6&efg=eyJ2ZW5jb2RlX3RhZyI6IkNBUk9VU0VMX0lURU0uaW1hZ2VfdXJsZ2VuLjcwMHg4NzQuc2RyLmYyOTM1MC5kZWZhdWx0X2ltYWdlIn0&_nc_ht=scontent-ssn1-1.cdninstagram.com&_nc_cat=108&_nc_oc=Q6cZ2QFQkup_rXcrukjHB6pdWygxbYv9hdPgnEVdoK9kVvOOZ1VwAYF3GmdPEAKvYJ85a94&_nc_ohc=9ofsw8T2ZXYQ7kNvwGp9DWt&_nc_gid=3pQNn-fmYxKwxkOmGx-1BA&edm=APs17CUBAAAA&ccb=7-5&ig_cache_key=MjgyNTUwODI4NzI1OTU4NTA3OQ%3D%3D.3-ccb7-5&oh=00_AfKJd_mqyKV7YvfJH47WrozLaKVdrEari8p5pfgvpaifPw&oe=6830AA38&_nc_sid=10d13b']"
        ],
        [
         "7",
         "mukit_list",
         "[먹킷📝]  이거 하나보면 끝 메모하자✏먹킷이 후기찾아보고 만든‘연남동 맛집 종결판32.’이거 하나면 연남동 맛집은 다 꿰고 있는거랑 다름없다.일단 저장부터@@",
         "['#연남동맛집_종결판32연남동', '#연남동맛집', '#연남동카페', '#연남동', '#연남동빵집', '#치플레', '#앤티크커피', '#노티드']",
         "2022-12-08",
         "1.8만",
         "['https://scontent-ssn1-1.cdninstagram.com/v/t51.2885-15/318321899_1200333393898125_4512450646502196993_n.jpg?stp=dst-jpg_e15_tt6&efg=eyJ2ZW5jb2RlX3RhZyI6IkNBUk9VU0VMX0lURU0uaW1hZ2VfdXJsZ2VuLjEwODB4MTM1MC5zZHIuZjI4ODUuZGVmYXVsdF9pbWFnZSJ9&_nc_ht=scontent-ssn1-1.cdninstagram.com&_nc_cat=109&_nc_oc=Q6cZ2QG9DOvTBSIbfa_lPHs4qdXCkmRVcWc0B5eG0tMkn9Rjt1rNoNBhifDfCc6Ookdgiuw&_nc_ohc=3rhKTmIr4h8Q7kNvwEGQl8W&_nc_gid=CoDwcBB_bctDBPBpjltEmA&edm=APs17CUBAAAA&ccb=7-5&ig_cache_key=Mjk4ODQ1NDA3OTE5OTM1NDY1Mg%3D%3D.3-ccb7-5&oh=00_AfJ5eHqeCWKtSQqM52JeLtolcfGucScPPqhuHh1wUtkHww&oe=6830AE0B&_nc_sid=10d13b', 'https://scontent-ssn1-1.cdninstagram.com/v/t51.2885-15/318476347_672029061119845_8618631160048356361_n.jpg?stp=dst-jpg_e15_tt6&efg=eyJ2ZW5jb2RlX3RhZyI6IkNBUk9VU0VMX0lURU0uaW1hZ2VfdXJsZ2VuLjEwODB4MTM1MC5zZHIuZjI4ODUuZGVmYXVsdF9pbWFnZSJ9&_nc_ht=scontent-ssn1-1.cdninstagram.com&_nc_cat=101&_nc_oc=Q6cZ2QG9DOvTBSIbfa_lPHs4qdXCkmRVcWc0B5eG0tMkn9Rjt1rNoNBhifDfCc6Ookdgiuw&_nc_ohc=voT2grwmX6sQ7kNvwFpDEAd&_nc_gid=CoDwcBB_bctDBPBpjltEmA&edm=APs17CUBAAAA&ccb=7-5&ig_cache_key=Mjk4ODQ1NDA3OTI1ODAxMjUwNA%3D%3D.3-ccb7-5&oh=00_AfKWyvGtWEX7pNyCzZ6lQqWrj84Qq04l5-bu-0t3DjDRFg&oe=6830A2B7&_nc_sid=10d13b', 'https://scontent-ssn1-1.cdninstagram.com/v/t51.2885-15/318476347_672029061119845_8618631160048356361_n.jpg?stp=dst-jpg_e15_tt6&efg=eyJ2ZW5jb2RlX3RhZyI6IkNBUk9VU0VMX0lURU0uaW1hZ2VfdXJsZ2VuLjEwODB4MTM1MC5zZHIuZjI4ODUuZGVmYXVsdF9pbWFnZSJ9&_nc_ht=scontent-ssn1-1.cdninstagram.com&_nc_cat=101&_nc_oc=Q6cZ2QG9DOvTBSIbfa_lPHs4qdXCkmRVcWc0B5eG0tMkn9Rjt1rNoNBhifDfCc6Ookdgiuw&_nc_ohc=voT2grwmX6sQ7kNvwFpDEAd&_nc_gid=CoDwcBB_bctDBPBpjltEmA&edm=APs17CUBAAAA&ccb=7-5&ig_cache_key=Mjk4ODQ1NDA3OTI1ODAxMjUwNA%3D%3D.3-ccb7-5&oh=00_AfKWyvGtWEX7pNyCzZ6lQqWrj84Qq04l5-bu-0t3DjDRFg&oe=6830A2B7&_nc_sid=10d13b', 'https://scontent-ssn1-1.cdninstagram.com/v/t51.2885-15/318785993_5617841128251895_1138643803629870937_n.jpg?stp=dst-jpg_e15_tt6&efg=eyJ2ZW5jb2RlX3RhZyI6IkNBUk9VU0VMX0lURU0uaW1hZ2VfdXJsZ2VuLjEwODB4MTM1MC5zZHIuZjI4ODUuZGVmYXVsdF9pbWFnZSJ9&_nc_ht=scontent-ssn1-1.cdninstagram.com&_nc_cat=107&_nc_oc=Q6cZ2QG9DOvTBSIbfa_lPHs4qdXCkmRVcWc0B5eG0tMkn9Rjt1rNoNBhifDfCc6Ookdgiuw&_nc_ohc=sFKXEyI5_AMQ7kNvwFXbMsK&_nc_gid=CoDwcBB_bctDBPBpjltEmA&edm=APs17CUBAAAA&ccb=7-5&ig_cache_key=Mjk4ODQ1NDA3OTA1NjU4ODIzMw%3D%3D.3-ccb7-5&oh=00_AfIPGHGPKWl2rcnOOJrKE9WDt39_Fdaw3dbKsZDCSMKm2Q&oe=68309329&_nc_sid=10d13b', 'https://scontent-ssn1-1.cdninstagram.com/v/t51.2885-15/318769750_1318035952360636_4427594690651625157_n.jpg?stp=dst-jpg_e15_tt6&efg=eyJ2ZW5jb2RlX3RhZyI6IkNBUk9VU0VMX0lURU0uaW1hZ2VfdXJsZ2VuLjEwODB4MTM1MC5zZHIuZjI4ODUuZGVmYXVsdF9pbWFnZSJ9&_nc_ht=scontent-ssn1-1.cdninstagram.com&_nc_cat=104&_nc_oc=Q6cZ2QG9DOvTBSIbfa_lPHs4qdXCkmRVcWc0B5eG0tMkn9Rjt1rNoNBhifDfCc6Ookdgiuw&_nc_ohc=JiGJPPia4TwQ7kNvwGtuzpI&_nc_gid=CoDwcBB_bctDBPBpjltEmA&edm=APs17CUBAAAA&ccb=7-5&ig_cache_key=Mjk4ODQ1NDA3OTA1NjgyNTAzNg%3D%3D.3-ccb7-5&oh=00_AfLGKMybsEnbqolOtSINRNYHbwqZxSpOtokF4RWNtRbf0w&oe=6830B33A&_nc_sid=10d13b', 'https://scontent-ssn1-1.cdninstagram.com/v/t51.2885-15/318347508_476419761295861_6467670867868613105_n.jpg?stp=dst-jpg_e15_tt6&efg=eyJ2ZW5jb2RlX3RhZyI6IkNBUk9VU0VMX0lURU0uaW1hZ2VfdXJsZ2VuLjEwODB4MTM1MC5zZHIuZjI4ODUuZGVmYXVsdF9pbWFnZSJ9&_nc_ht=scontent-ssn1-1.cdninstagram.com&_nc_cat=101&_nc_oc=Q6cZ2QG9DOvTBSIbfa_lPHs4qdXCkmRVcWc0B5eG0tMkn9Rjt1rNoNBhifDfCc6Ookdgiuw&_nc_ohc=OnTsetp8_HEQ7kNvwGWpMjZ&_nc_gid=CoDwcBB_bctDBPBpjltEmA&edm=APs17CUBAAAA&ccb=7-5&ig_cache_key=Mjk4ODQ1NDA3OTE5OTM4Njg4MA%3D%3D.3-ccb7-5&oh=00_AfI9brD7U_QPOHuY3_-1ySVY6uq1tUAgub-JTAAwDYZDog&oe=6830A4E0&_nc_sid=10d13b', 'https://scontent-ssn1-1.cdninstagram.com/v/t51.2885-15/318577159_525245552954408_4608512878408023985_n.jpg?stp=dst-jpg_e15_tt6&efg=eyJ2ZW5jb2RlX3RhZyI6IkNBUk9VU0VMX0lURU0uaW1hZ2VfdXJsZ2VuLjEwODB4MTM1MC5zZHIuZjI4ODUuZGVmYXVsdF9pbWFnZSJ9&_nc_ht=scontent-ssn1-1.cdninstagram.com&_nc_cat=108&_nc_oc=Q6cZ2QG9DOvTBSIbfa_lPHs4qdXCkmRVcWc0B5eG0tMkn9Rjt1rNoNBhifDfCc6Ookdgiuw&_nc_ohc=mnD11mMjpsMQ7kNvwFNANXn&_nc_gid=CoDwcBB_bctDBPBpjltEmA&edm=APs17CUBAAAA&ccb=7-5&ig_cache_key=Mjk4ODQ1NDA3OTA1NjczMjUyNQ%3D%3D.3-ccb7-5&oh=00_AfLCR7fqpuw3CtUKDsU6l_rJ_-5pQjoiasfVZE5hEicYtQ&oe=6830A581&_nc_sid=10d13b', 'https://scontent-ssn1-1.cdninstagram.com/v/t51.2885-15/318603757_543325334022631_6149907505678368892_n.jpg?stp=dst-jpg_e15_tt6&efg=eyJ2ZW5jb2RlX3RhZyI6IkNBUk9VU0VMX0lURU0uaW1hZ2VfdXJsZ2VuLjEwODB4MTM1MC5zZHIuZjI4ODUuZGVmYXVsdF9pbWFnZSJ9&_nc_ht=scontent-ssn1-1.cdninstagram.com&_nc_cat=107&_nc_oc=Q6cZ2QG9DOvTBSIbfa_lPHs4qdXCkmRVcWc0B5eG0tMkn9Rjt1rNoNBhifDfCc6Ookdgiuw&_nc_ohc=zyYU2SxZBKUQ7kNvwEr7g_X&_nc_gid=CoDwcBB_bctDBPBpjltEmA&edm=APs17CUBAAAA&ccb=7-5&ig_cache_key=Mjk4ODQ1NDA3OTE5OTM1MzYzOA%3D%3D.3-ccb7-5&oh=00_AfIq-TCG1AvKPcYOqbKbM1UCCnVsPHNRIhrTjrYKLk4xDw&oe=6830AAFB&_nc_sid=10d13b', 'https://scontent-ssn1-1.cdninstagram.com/v/t51.2885-15/318590745_1136563583659382_5367852391305410807_n.jpg?stp=dst-jpg_e15_tt6&efg=eyJ2ZW5jb2RlX3RhZyI6IkNBUk9VU0VMX0lURU0uaW1hZ2VfdXJsZ2VuLjEwODB4MTM1MC5zZHIuZjI4ODUuZGVmYXVsdF9pbWFnZSJ9&_nc_ht=scontent-ssn1-1.cdninstagram.com&_nc_cat=102&_nc_oc=Q6cZ2QG9DOvTBSIbfa_lPHs4qdXCkmRVcWc0B5eG0tMkn9Rjt1rNoNBhifDfCc6Ookdgiuw&_nc_ohc=UFNvqlWvkQkQ7kNvwE1W9Zz&_nc_gid=CoDwcBB_bctDBPBpjltEmA&edm=APs17CUBAAAA&ccb=7-5&ig_cache_key=Mjk4ODQ1NDA3OTA0ODQyNTQ2MQ%3D%3D.3-ccb7-5&oh=00_AfLlaYc7iiQSsa0UhKxTU_ytwbnJMQC4L3QKQY7cYVxXqw&oe=68308AEC&_nc_sid=10d13b']"
        ],
        [
         "8",
         "blimp.taste",
         "야장보다 조용하지만, 야외 좌석에서 같은 분위기를 느낄 수 있는 맛집 8곳을 알려드릴게요! 메뉴도 한식부터 양식, 그리고 중식까지 다양하니 어떤 맛이 끌리는지만 선택해 보세요. 🪑① 고운돈 (서울 종로구 수표로28길 23-6)② 금손 (서울 성동구 연무장길 41-26, 2층)③ 창창 (서울 종로구 창신12길 37)④ 꼬끼오 장작구이 (서울 강남구 강남대로84길 34, 1-2층)⑤ 촨촨지우바 (서울 중구 을지로 157, 3층)⑥ 독보 (서울 성동구 상원길 50-15)⑦ 나누리잡화점 (서울 성동구 연무장길 47)⑧ 무채색 (서울 마포구 연희로1길 39 건너편, 5층)-✅ 맛의 신대륙을 발견하고 싶다면,블림프 테이스트(@blimp.taste)를 팔로우하세요.Materials ㅣ 업체 제공 이미지",
         "[]",
         "2025-04-16",
         "1484",
         "['https://scontent-ssn1-1.cdninstagram.com/v/t51.2885-15/491466015_18009265613717476_7313075445057762530_n.jpg?stp=dst-jpg_e35_tt6&efg=eyJ2ZW5jb2RlX3RhZyI6IkNBUk9VU0VMX0lURU0uaW1hZ2VfdXJsZ2VuLjEwODB4MTM1MC5zZHIuZjc1NzYxLmRlZmF1bHRfaW1hZ2UifQ&_nc_ht=scontent-ssn1-1.cdninstagram.com&_nc_cat=104&_nc_oc=Q6cZ2QGpGBjFBmubFglSL1vOKTUzfIsdOIK4dt2QjsO2ZmF8ZmNQaVf81lEPI2al6iaCcOk&_nc_ohc=76Cbqxi2i0IQ7kNvwH4n7w3&_nc_gid=F_vVKJYnHuKmLqugtPByIQ&edm=APs17CUBAAAA&ccb=7-5&ig_cache_key=MzYxMTk1NzQ3MzE2MjExMjc2OQ%3D%3D.3-ccb7-5&oh=00_AfKHfeLQlndgC2GL_rfl2ii2vOdfbLdykoMqC82JVbGihQ&oe=6830A4A6&_nc_sid=10d13b', 'https://scontent-ssn1-1.cdninstagram.com/v/t51.2885-15/491461219_18009265622717476_7974489649046796378_n.jpg?stp=dst-jpg_e35_tt6&efg=eyJ2ZW5jb2RlX3RhZyI6IkNBUk9VU0VMX0lURU0uaW1hZ2VfdXJsZ2VuLjEwODB4MTM1MC5zZHIuZjc1NzYxLmRlZmF1bHRfaW1hZ2UifQ&_nc_ht=scontent-ssn1-1.cdninstagram.com&_nc_cat=104&_nc_oc=Q6cZ2QGpGBjFBmubFglSL1vOKTUzfIsdOIK4dt2QjsO2ZmF8ZmNQaVf81lEPI2al6iaCcOk&_nc_ohc=0QaDBN14OGQQ7kNvwHlBYf2&_nc_gid=F_vVKJYnHuKmLqugtPByIQ&edm=APs17CUBAAAA&ccb=7-5&ig_cache_key=MzYxMTk1NzQ3MzE1Mzc0MDA1NQ%3D%3D.3-ccb7-5&oh=00_AfIu9rVIbt0eSabMpuplbMWbCDe5OquxiShMDvPT83ypVg&oe=6830B964&_nc_sid=10d13b', 'https://scontent-ssn1-1.cdninstagram.com/v/t51.2885-15/491461219_18009265622717476_7974489649046796378_n.jpg?stp=dst-jpg_e35_tt6&efg=eyJ2ZW5jb2RlX3RhZyI6IkNBUk9VU0VMX0lURU0uaW1hZ2VfdXJsZ2VuLjEwODB4MTM1MC5zZHIuZjc1NzYxLmRlZmF1bHRfaW1hZ2UifQ&_nc_ht=scontent-ssn1-1.cdninstagram.com&_nc_cat=104&_nc_oc=Q6cZ2QGpGBjFBmubFglSL1vOKTUzfIsdOIK4dt2QjsO2ZmF8ZmNQaVf81lEPI2al6iaCcOk&_nc_ohc=0QaDBN14OGQQ7kNvwHlBYf2&_nc_gid=F_vVKJYnHuKmLqugtPByIQ&edm=APs17CUBAAAA&ccb=7-5&ig_cache_key=MzYxMTk1NzQ3MzE1Mzc0MDA1NQ%3D%3D.3-ccb7-5&oh=00_AfIu9rVIbt0eSabMpuplbMWbCDe5OquxiShMDvPT83ypVg&oe=6830B964&_nc_sid=10d13b', 'https://scontent-ssn1-1.cdninstagram.com/v/t51.2885-15/491462551_18009265640717476_8608111642745133196_n.jpg?stp=dst-jpg_e35_tt6&efg=eyJ2ZW5jb2RlX3RhZyI6IkNBUk9VU0VMX0lURU0uaW1hZ2VfdXJsZ2VuLjEwODB4MTM1MC5zZHIuZjc1NzYxLmRlZmF1bHRfaW1hZ2UifQ&_nc_ht=scontent-ssn1-1.cdninstagram.com&_nc_cat=104&_nc_oc=Q6cZ2QGpGBjFBmubFglSL1vOKTUzfIsdOIK4dt2QjsO2ZmF8ZmNQaVf81lEPI2al6iaCcOk&_nc_ohc=RebHxWmKV9sQ7kNvwHY3Ao2&_nc_gid=F_vVKJYnHuKmLqugtPByIQ&edm=APs17CUBAAAA&ccb=7-5&ig_cache_key=MzYxMTk1NzQ3MzE5NTY3NzExOQ%3D%3D.3-ccb7-5&oh=00_AfK5ofBZRe8_WGnJ-_o0uSR5eICBEbprB15OrxWzV1QGDg&oe=6830BD0A&_nc_sid=10d13b', 'https://scontent-ssn1-1.cdninstagram.com/v/t51.2885-15/491461239_18009265637717476_8704571452967888275_n.jpg?stp=dst-jpg_e35_tt6&efg=eyJ2ZW5jb2RlX3RhZyI6IkNBUk9VU0VMX0lURU0uaW1hZ2VfdXJsZ2VuLjEwODB4MTM1MC5zZHIuZjc1NzYxLmRlZmF1bHRfaW1hZ2UifQ&_nc_ht=scontent-ssn1-1.cdninstagram.com&_nc_cat=104&_nc_oc=Q6cZ2QGpGBjFBmubFglSL1vOKTUzfIsdOIK4dt2QjsO2ZmF8ZmNQaVf81lEPI2al6iaCcOk&_nc_ohc=Opw94QVCFJ4Q7kNvwE5Gh6j&_nc_gid=F_vVKJYnHuKmLqugtPByIQ&edm=APs17CUBAAAA&ccb=7-5&ig_cache_key=MzYxMTk1NzQ3MzE2MjEzNTQyOQ%3D%3D.3-ccb7-5&oh=00_AfLPc0KuouiyNeoK1MlaBeZCjDI4FskMkw-NcTIbeLRO1g&oe=68309693&_nc_sid=10d13b', 'https://scontent-ssn1-1.cdninstagram.com/v/t51.2885-15/491469143_18009265652717476_645365107310606288_n.jpg?stp=dst-jpg_e35_tt6&efg=eyJ2ZW5jb2RlX3RhZyI6IkNBUk9VU0VMX0lURU0uaW1hZ2VfdXJsZ2VuLjEwODB4MTM1MC5zZHIuZjc1NzYxLmRlZmF1bHRfaW1hZ2UifQ&_nc_ht=scontent-ssn1-1.cdninstagram.com&_nc_cat=104&_nc_oc=Q6cZ2QGpGBjFBmubFglSL1vOKTUzfIsdOIK4dt2QjsO2ZmF8ZmNQaVf81lEPI2al6iaCcOk&_nc_ohc=6jEZMjbJ1FkQ7kNvwEnf8dy&_nc_gid=F_vVKJYnHuKmLqugtPByIQ&edm=APs17CUBAAAA&ccb=7-5&ig_cache_key=MzYxMTk1NzQ3MzE5NTgyODIxNQ%3D%3D.3-ccb7-5&oh=00_AfKYRKlkh6fakcd0EKqzp-g-OcHl6Vkxnnzc8E1sdJIurQ&oe=6830B84F&_nc_sid=10d13b', 'https://scontent-ssn1-1.cdninstagram.com/v/t51.2885-15/491461859_18009265661717476_384704505739947321_n.jpg?stp=dst-jpg_e35_tt6&efg=eyJ2ZW5jb2RlX3RhZyI6IkNBUk9VU0VMX0lURU0uaW1hZ2VfdXJsZ2VuLjEwODB4MTM1MC5zZHIuZjc1NzYxLmRlZmF1bHRfaW1hZ2UifQ&_nc_ht=scontent-ssn1-1.cdninstagram.com&_nc_cat=104&_nc_oc=Q6cZ2QGpGBjFBmubFglSL1vOKTUzfIsdOIK4dt2QjsO2ZmF8ZmNQaVf81lEPI2al6iaCcOk&_nc_ohc=S62f9nyXrLkQ7kNvwGUDv60&_nc_gid=F_vVKJYnHuKmLqugtPByIQ&edm=APs17CUBAAAA&ccb=7-5&ig_cache_key=MzYxMTk1NzQ3MzE2MjE5MDUxNA%3D%3D.3-ccb7-5&oh=00_AfKljYWBsMuwn_Su-P-9kebgs4CUw-n2w_4i_mUwv9d5mg&oe=68308AF4&_nc_sid=10d13b', 'https://scontent-ssn1-1.cdninstagram.com/v/t51.2885-15/489324727_18009265670717476_5028487180979037521_n.jpg?stp=dst-jpg_e35_tt6&efg=eyJ2ZW5jb2RlX3RhZyI6IkNBUk9VU0VMX0lURU0uaW1hZ2VfdXJsZ2VuLjEwODB4MTM1MC5zZHIuZjc1NzYxLmRlZmF1bHRfaW1hZ2UifQ&_nc_ht=scontent-ssn1-1.cdninstagram.com&_nc_cat=104&_nc_oc=Q6cZ2QGpGBjFBmubFglSL1vOKTUzfIsdOIK4dt2QjsO2ZmF8ZmNQaVf81lEPI2al6iaCcOk&_nc_ohc=3BZlRwwXgdgQ7kNvwHK8DTR&_nc_gid=F_vVKJYnHuKmLqugtPByIQ&edm=APs17CUBAAAA&ccb=7-5&ig_cache_key=MzYxMTk1NzQ3MzE3MDU5MTU5MQ%3D%3D.3-ccb7-5&oh=00_AfLQg8711ttXztg4kxnmhczSwQXBDm1cWsLrf5lRUEk5yQ&oe=6830B233&_nc_sid=10d13b', 'https://scontent-ssn1-1.cdninstagram.com/v/t51.2885-15/490717561_18009265682717476_4998350474650071381_n.jpg?stp=dst-jpg_e35_tt6&efg=eyJ2ZW5jb2RlX3RhZyI6IkNBUk9VU0VMX0lURU0uaW1hZ2VfdXJsZ2VuLjEwODB4MTM1MC5zZHIuZjc1NzYxLmRlZmF1bHRfaW1hZ2UifQ&_nc_ht=scontent-ssn1-1.cdninstagram.com&_nc_cat=104&_nc_oc=Q6cZ2QGpGBjFBmubFglSL1vOKTUzfIsdOIK4dt2QjsO2ZmF8ZmNQaVf81lEPI2al6iaCcOk&_nc_ohc=ZVyfK0Y3SWUQ7kNvwFbZnBD&_nc_gid=F_vVKJYnHuKmLqugtPByIQ&edm=APs17CUBAAAA&ccb=7-5&ig_cache_key=MzYxMTk1NzQ3MzE0NTQ4ODcxMQ%3D%3D.3-ccb7-5&oh=00_AfL_NU7WtZCQw8XWVaK0GMtK3mM26ZWmb-YDbMYorTOosw&oe=6830B407&_nc_sid=10d13b', 'https://scontent-ssn1-1.cdninstagram.com/v/t51.2885-15/490646482_18009265691717476_28514999717724838_n.jpg?stp=dst-jpg_e35_tt6&efg=eyJ2ZW5jb2RlX3RhZyI6IkNBUk9VU0VMX0lURU0uaW1hZ2VfdXJsZ2VuLjEwODB4MTM1MC5zZHIuZjc1NzYxLmRlZmF1bHRfaW1hZ2UifQ&_nc_ht=scontent-ssn1-1.cdninstagram.com&_nc_cat=104&_nc_oc=Q6cZ2QGpGBjFBmubFglSL1vOKTUzfIsdOIK4dt2QjsO2ZmF8ZmNQaVf81lEPI2al6iaCcOk&_nc_ohc=25Z9lDUyPx8Q7kNvwHFuFjt&_nc_gid=F_vVKJYnHuKmLqugtPByIQ&edm=APs17CUBAAAA&ccb=7-5&ig_cache_key=MzYxMTk1NzQ3MzE2MjA5MDYwMQ%3D%3D.3-ccb7-5&oh=00_AfI91OHKQk37r1JTS_XzAqOqpSOslolgEQBmKUMigMcbBA&oe=6830BFA9&_nc_sid=10d13b']"
        ],
        [
         "9",
         "all.about.hongdae.yeonnam",
         "여기 먹어보면 스윙스에게 고마울껄요?(๑>؂<๑)۶스윙스가 샤라웃한 연남동 수제만두 맛집을 아시나요? 웨이팅 1시간 이상 해야되는 중식 맛집을 소개합니다! 🤤맛잘알 스윙스가 극찬한 만큼 맛은 보장되어있는데요‼️겉바속촉인 육즙만두 성젠바오는 꼭 먹어야 하고, 뜨거운 육수를 머금고 있는 딤섬 샤오롱바오도 필수입니다.🍤가지 안좋아하는 사람들도 양념치킨맛 소스가 뿌려진 어향가지 먹어보면 분명 빠질거에요!(๑>؂•̀๑)✌중식집 답게 짬뽕도 근본 그 자체이고, 한국인들 호불호 없는 우육탕면도 고기가 큼직하게 들어가 있어서 사장님 ㄹㅇ배우신분.🍜그 외 마파두부 덮밥, 칠리새우 등 시키기만 해도 웬만한 맛집 이상이니 두려워하지말고 주문 고고(ﾉ≧ڡ≦)💕쩝쩝박사들 다같이 가서 메뉴 여러개 시켜보세요१✌˚◡˚✌५@@메뉴 여러개 뿌실 쩝쩝박사한테 공유 ㄱㄱ📍연남  마포구 연남동 383-95⏰매주 수 정기휴무⏰11:30-21:30⏰브레이크 타임 15:00-17:00/ 토,일 16:00-17:00⏰라스트 오더 20:30",
         "['#연교서울', '#연남동맛집']",
         "2025-03-31",
         "638",
         "['https://scontent-ssn1-1.cdninstagram.com/v/t39.30808-6/487535648_993980636162115_4022882982201916974_n.jpg?stp=dst-jpg_e35_tt6&efg=eyJ2ZW5jb2RlX3RhZyI6IkNBUk9VU0VMX0lURU0uaW1hZ2VfdXJsZ2VuLjEwODB4MTM1MC5zZHIuZjMwODA4LmRlZmF1bHRfaW1hZ2UifQ&_nc_ht=scontent-ssn1-1.cdninstagram.com&_nc_cat=103&_nc_oc=Q6cZ2QGBmlaXmSDi9z7Rq5X2cvCPXzhAEUP21OZaT7hFk9puQZaw5HAWh1eTInZSBoDMd08&_nc_ohc=5apkgRW2hc4Q7kNvwGWr65Y&_nc_gid=loSsOncc1AvPJNLAvvPsIQ&edm=APs17CUAAAAA&ccb=7-5&ig_cache_key=MzYwMDMwOTM0MjEzNzk4NTgwOA%3D%3D.3-ccb7-5&oh=00_AfJmZLQyOU5IBcuXiUJqVOfF6TIXCaKHhqcGAsn-T8bQBg&oe=6830B476&_nc_sid=10d13b', 'https://scontent-ssn1-1.cdninstagram.com/v/t39.30808-6/487806558_993980746162104_6610963334828056554_n.jpg?stp=dst-jpg_e35_tt6&efg=eyJ2ZW5jb2RlX3RhZyI6IkNBUk9VU0VMX0lURU0uaW1hZ2VfdXJsZ2VuLjEwODB4MTM1MC5zZHIuZjMwODA4LmRlZmF1bHRfaW1hZ2UifQ&_nc_ht=scontent-ssn1-1.cdninstagram.com&_nc_cat=100&_nc_oc=Q6cZ2QGBmlaXmSDi9z7Rq5X2cvCPXzhAEUP21OZaT7hFk9puQZaw5HAWh1eTInZSBoDMd08&_nc_ohc=YCJpf-WK-cYQ7kNvwFVWK6r&_nc_gid=loSsOncc1AvPJNLAvvPsIQ&edm=APs17CUAAAAA&ccb=7-5&ig_cache_key=MzYwMDMwOTM0MjU5OTMxNjE4MQ%3D%3D.3-ccb7-5&oh=00_AfK15nniGIxNdsfbYkW0cGErXX-_jplW9utjxtlt9TPO3g&oe=6830BA4B&_nc_sid=10d13b', 'https://scontent-ssn1-1.cdninstagram.com/v/t39.30808-6/487806558_993980746162104_6610963334828056554_n.jpg?stp=dst-jpg_e35_tt6&efg=eyJ2ZW5jb2RlX3RhZyI6IkNBUk9VU0VMX0lURU0uaW1hZ2VfdXJsZ2VuLjEwODB4MTM1MC5zZHIuZjMwODA4LmRlZmF1bHRfaW1hZ2UifQ&_nc_ht=scontent-ssn1-1.cdninstagram.com&_nc_cat=100&_nc_oc=Q6cZ2QGBmlaXmSDi9z7Rq5X2cvCPXzhAEUP21OZaT7hFk9puQZaw5HAWh1eTInZSBoDMd08&_nc_ohc=YCJpf-WK-cYQ7kNvwFVWK6r&_nc_gid=loSsOncc1AvPJNLAvvPsIQ&edm=APs17CUAAAAA&ccb=7-5&ig_cache_key=MzYwMDMwOTM0MjU5OTMxNjE4MQ%3D%3D.3-ccb7-5&oh=00_AfK15nniGIxNdsfbYkW0cGErXX-_jplW9utjxtlt9TPO3g&oe=6830BA4B&_nc_sid=10d13b', 'https://scontent-ssn1-1.cdninstagram.com/v/t39.30808-6/487541657_993980796162099_4322215150719486699_n.jpg?stp=dst-jpg_e35_tt6&efg=eyJ2ZW5jb2RlX3RhZyI6IkNBUk9VU0VMX0lURU0uaW1hZ2VfdXJsZ2VuLjEwODB4MTM1MC5zZHIuZjMwODA4LmRlZmF1bHRfaW1hZ2UifQ&_nc_ht=scontent-ssn1-1.cdninstagram.com&_nc_cat=103&_nc_oc=Q6cZ2QGBmlaXmSDi9z7Rq5X2cvCPXzhAEUP21OZaT7hFk9puQZaw5HAWh1eTInZSBoDMd08&_nc_ohc=Tg1WVI5POiEQ7kNvwG7p5Ra&_nc_gid=loSsOncc1AvPJNLAvvPsIQ&edm=APs17CUAAAAA&ccb=7-5&ig_cache_key=MzYwMDMwOTM0MjExMjc4MDI3NQ%3D%3D.3-ccb7-5&oh=00_AfJ2uk0JIngQEUM2ns001XasBIsDWqD5lQyw3e8VYxdzIw&oe=6830BBF5&_nc_sid=10d13b', 'https://scontent-ssn1-1.cdninstagram.com/v/t39.30808-6/487828098_993980866162092_5205371515553511322_n.jpg?stp=dst-jpg_e35_tt6&efg=eyJ2ZW5jb2RlX3RhZyI6IkNBUk9VU0VMX0lURU0uaW1hZ2VfdXJsZ2VuLjEwODB4MTM1MC5zZHIuZjMwODA4LmRlZmF1bHRfaW1hZ2UifQ&_nc_ht=scontent-ssn1-1.cdninstagram.com&_nc_cat=100&_nc_oc=Q6cZ2QGBmlaXmSDi9z7Rq5X2cvCPXzhAEUP21OZaT7hFk9puQZaw5HAWh1eTInZSBoDMd08&_nc_ohc=qANNw7nXwzkQ7kNvwHqMteY&_nc_gid=loSsOncc1AvPJNLAvvPsIQ&edm=APs17CUAAAAA&ccb=7-5&ig_cache_key=MzYwMDMwOTM0MjMwNTcxNzI1NA%3D%3D.3-ccb7-5&oh=00_AfIJ5NNlLz7Ybj-IUFeZE2WQoOZood0UE5Maruf1G1kZHA&oe=6830BD8A&_nc_sid=10d13b', 'https://scontent-ssn1-1.cdninstagram.com/v/t39.30808-6/487785965_993980859495426_5560533128938529726_n.jpg?stp=dst-jpg_e35_tt6&efg=eyJ2ZW5jb2RlX3RhZyI6IkNBUk9VU0VMX0lURU0uaW1hZ2VfdXJsZ2VuLjEwODB4MTM1MC5zZHIuZjMwODA4LmRlZmF1bHRfaW1hZ2UifQ&_nc_ht=scontent-ssn1-1.cdninstagram.com&_nc_cat=106&_nc_oc=Q6cZ2QGBmlaXmSDi9z7Rq5X2cvCPXzhAEUP21OZaT7hFk9puQZaw5HAWh1eTInZSBoDMd08&_nc_ohc=A3QB7_eTMGAQ7kNvwHlmNyG&_nc_gid=loSsOncc1AvPJNLAvvPsIQ&edm=APs17CUAAAAA&ccb=7-5&ig_cache_key=MzYwMDMwOTM0MjYwNzY5MjEyNg%3D%3D.3-ccb7-5&oh=00_AfIo7XOVx0Jxw9thdlaN6AfGyJeQZd0Vb5Ggzt8XBq2baw&oe=6830A565&_nc_sid=10d13b', 'https://scontent-ssn1-1.cdninstagram.com/v/t39.30808-6/487338803_993980862828759_4506538114255115804_n.jpg?stp=dst-jpg_e35_tt6&efg=eyJ2ZW5jb2RlX3RhZyI6IkNBUk9VU0VMX0lURU0uaW1hZ2VfdXJsZ2VuLjEwODB4MTM1MC5zZHIuZjMwODA4LmRlZmF1bHRfaW1hZ2UifQ&_nc_ht=scontent-ssn1-1.cdninstagram.com&_nc_cat=103&_nc_oc=Q6cZ2QGBmlaXmSDi9z7Rq5X2cvCPXzhAEUP21OZaT7hFk9puQZaw5HAWh1eTInZSBoDMd08&_nc_ohc=vG4r8dJ1dIYQ7kNvwHGjYxN&_nc_gid=loSsOncc1AvPJNLAvvPsIQ&edm=APs17CUAAAAA&ccb=7-5&ig_cache_key=MzYwMDMwOTM0MjIzMDExNjYwNA%3D%3D.3-ccb7-5&oh=00_AfI_hx4Bb-E7NfI5KiIbh7CkAoJjexDF_WxiNpBMywakqg&oe=68309D11&_nc_sid=10d13b', 'https://scontent-ssn1-1.cdninstagram.com/v/t39.30808-6/487699520_993980849495427_3243090310172466399_n.jpg?stp=dst-jpg_e35_tt6&efg=eyJ2ZW5jb2RlX3RhZyI6IkNBUk9VU0VMX0lURU0uaW1hZ2VfdXJsZ2VuLjEwODB4MTM1MC5zZHIuZjMwODA4LmRlZmF1bHRfaW1hZ2UifQ&_nc_ht=scontent-ssn1-1.cdninstagram.com&_nc_cat=103&_nc_oc=Q6cZ2QGBmlaXmSDi9z7Rq5X2cvCPXzhAEUP21OZaT7hFk9puQZaw5HAWh1eTInZSBoDMd08&_nc_ohc=ZTjECaWnQOIQ7kNvwEkvpfm&_nc_gid=loSsOncc1AvPJNLAvvPsIQ&edm=APs17CUAAAAA&ccb=7-5&ig_cache_key=MzYwMDMwOTM0MjIzODQ2MjI1OA%3D%3D.3-ccb7-5&oh=00_AfJqm3mJVW2SHBdRcA-rMcD_BpQAf5JTWCGuwEhJxiGfNw&oe=6830901D&_nc_sid=10d13b', 'https://scontent-ssn1-1.cdninstagram.com/v/t39.30808-6/487472833_993980846162094_5638875445529708176_n.jpg?stp=dst-jpg_e35_tt6&efg=eyJ2ZW5jb2RlX3RhZyI6IkNBUk9VU0VMX0lURU0uaW1hZ2VfdXJsZ2VuLjEwODB4MTM1MC5zZHIuZjMwODA4LmRlZmF1bHRfaW1hZ2UifQ&_nc_ht=scontent-ssn1-1.cdninstagram.com&_nc_cat=106&_nc_oc=Q6cZ2QGBmlaXmSDi9z7Rq5X2cvCPXzhAEUP21OZaT7hFk9puQZaw5HAWh1eTInZSBoDMd08&_nc_ohc=OrhFiCDRBdIQ7kNvwH92AMf&_nc_gid=loSsOncc1AvPJNLAvvPsIQ&edm=APs17CUAAAAA&ccb=7-5&ig_cache_key=MzYwMDMwOTM0MjcyNTExMTg2NA%3D%3D.3-ccb7-5&oh=00_AfI5_-_CyYWjRWIh_Qhwd_AhfCfy4FZaWBWWGiSwIk1ljg&oe=6830AAA2&_nc_sid=10d13b', 'https://scontent-ssn1-1.cdninstagram.com/v/t39.30808-6/487556889_993980842828761_8754835663538440500_n.jpg?stp=dst-jpg_e35_tt6&efg=eyJ2ZW5jb2RlX3RhZyI6IkNBUk9VU0VMX0lURU0uaW1hZ2VfdXJsZ2VuLjEwODB4MTM1MC5zZHIuZjMwODA4LmRlZmF1bHRfaW1hZ2UifQ&_nc_ht=scontent-ssn1-1.cdninstagram.com&_nc_cat=109&_nc_oc=Q6cZ2QGBmlaXmSDi9z7Rq5X2cvCPXzhAEUP21OZaT7hFk9puQZaw5HAWh1eTInZSBoDMd08&_nc_ohc=1tPRWxXLATwQ7kNvwFsFQKC&_nc_gid=loSsOncc1AvPJNLAvvPsIQ&edm=APs17CUAAAAA&ccb=7-5&ig_cache_key=MzYwMDMwOTM0MjIxMzQ4Mjk0NA%3D%3D.3-ccb7-5&oh=00_AfIYA_Cpbd29d3Vjt2Bepr6HYeaIYceKcXozfQk7doD1Wg&oe=6830A83A&_nc_sid=10d13b']"
        ]
       ],
       "shape": {
        "columns": 6,
        "rows": 10
       }
      },
      "text/html": [
       "<div>\n",
       "<style scoped>\n",
       "    .dataframe tbody tr th:only-of-type {\n",
       "        vertical-align: middle;\n",
       "    }\n",
       "\n",
       "    .dataframe tbody tr th {\n",
       "        vertical-align: top;\n",
       "    }\n",
       "\n",
       "    .dataframe thead th {\n",
       "        text-align: right;\n",
       "    }\n",
       "</style>\n",
       "<table border=\"1\" class=\"dataframe\">\n",
       "  <thead>\n",
       "    <tr style=\"text-align: right;\">\n",
       "      <th></th>\n",
       "      <th>id</th>\n",
       "      <th>content</th>\n",
       "      <th>tags</th>\n",
       "      <th>date</th>\n",
       "      <th>like</th>\n",
       "      <th>img_urls</th>\n",
       "    </tr>\n",
       "  </thead>\n",
       "  <tbody>\n",
       "    <tr>\n",
       "      <th>0</th>\n",
       "      <td>seoulhotple</td>\n",
       "      <td>[먹부림하기 좋은 연남동찐맛집 36곳 대공개💗]비쥬얼부터 맛있어버린 핫한 맛집들로 ...</td>\n",
       "      <td>[#연남동맛집, #연남동맛집추천, #연남동맛집투어, #연남동데이트, #연남동데이트추...</td>\n",
       "      <td>2023-03-31</td>\n",
       "      <td>3789</td>\n",
       "      <td>[https://scontent-ssn1-1.cdninstagram.com/v/t5...</td>\n",
       "    </tr>\n",
       "    <tr>\n",
       "      <th>1</th>\n",
       "      <td>seoul_trends</td>\n",
       "      <td>요즘 날씨 안가면 유죄라는연남동 봄맛집 털어왔다~~🌸🩷 비주얼부터 맛까지아무거나 골...</td>\n",
       "      <td>[#연남동, #연남동맛집, #연남맛집, #연남동카페, #홍대맛집, #야장맛집]</td>\n",
       "      <td>2025-04-23</td>\n",
       "      <td>2400</td>\n",
       "      <td>[https://scontent-ssn1-1.cdninstagram.com/v/t5...</td>\n",
       "    </tr>\n",
       "    <tr>\n",
       "      <th>2</th>\n",
       "      <td>hong_sool</td>\n",
       "      <td>마포구 13년차 거주민이 말아주는💚연남 데이트코스 17💚n번째 재방문한 찐만 슬쩍 ...</td>\n",
       "      <td>[#연남동맛집추천, #연남동맛집, #홍대맛집, #연남카페, #홍대핫플]</td>\n",
       "      <td>2025-04-30</td>\n",
       "      <td>683</td>\n",
       "      <td>[https://scontent-ssn1-1.cdninstagram.com/v/t3...</td>\n",
       "    </tr>\n",
       "    <tr>\n",
       "      <th>3</th>\n",
       "      <td>trendy_stay</td>\n",
       "      <td>연남동에 이렇게 감각 있는 곳들이 많아?🤔한 번 발을 들이면 두 번, 세 번 찾게 ...</td>\n",
       "      <td>[]</td>\n",
       "      <td>2025-02-27</td>\n",
       "      <td>1573</td>\n",
       "      <td>[https://scontent-ssn1-1.cdninstagram.com/v/t5...</td>\n",
       "    </tr>\n",
       "    <tr>\n",
       "      <th>4</th>\n",
       "      <td>or__and</td>\n",
       "      <td>연남동. 필러맞은듯한 낙지만취급한다는 미친낙지볶음집. 쫀득함이 머리울릴정도였어요. ...</td>\n",
       "      <td>[#오얼앤드_연남동홍대, #낙지낚찌📌서울, #마포구맛집, #홍대맛집, #연남동맛집,...</td>\n",
       "      <td>2022-05-18</td>\n",
       "      <td>5만</td>\n",
       "      <td>[https://scontent-ssn1-1.cdninstagram.com/v/t5...</td>\n",
       "    </tr>\n",
       "    <tr>\n",
       "      <th>5</th>\n",
       "      <td>all.about.seoul.trip</td>\n",
       "      <td>✨요즘 사람들 연남동 가는 이유12✨돌고돌아 연남동만한 맛집동네 없다;;;이름에 '...</td>\n",
       "      <td>[#연남동맛집, #연남동카페, #연남동핫플, #연남동데이트, #연남동]</td>\n",
       "      <td>2024-07-10</td>\n",
       "      <td>2093</td>\n",
       "      <td>[https://scontent-ssn1-1.cdninstagram.com/v/t3...</td>\n",
       "    </tr>\n",
       "    <tr>\n",
       "      <th>6</th>\n",
       "      <td>seoul_thehotple</td>\n",
       "      <td>서울에서 오코노미야끼 제일 잘하는 곳을 소개한다.연남동 끝자락, 오코노미야끼 맛집 ...</td>\n",
       "      <td>[#소점, #더핫플_연남동, #서울맛집, #연남동맛집, #서울가볼만한곳, #서울데이...</td>\n",
       "      <td>2022-04-27</td>\n",
       "      <td>1.5만</td>\n",
       "      <td>[https://scontent-ssn1-1.cdninstagram.com/v/t5...</td>\n",
       "    </tr>\n",
       "    <tr>\n",
       "      <th>7</th>\n",
       "      <td>mukit_list</td>\n",
       "      <td>[먹킷📝]  이거 하나보면 끝 메모하자✏먹킷이 후기찾아보고 만든‘연남동 맛집 종결판...</td>\n",
       "      <td>[#연남동맛집_종결판32연남동, #연남동맛집, #연남동카페, #연남동, #연남동빵집...</td>\n",
       "      <td>2022-12-08</td>\n",
       "      <td>1.8만</td>\n",
       "      <td>[https://scontent-ssn1-1.cdninstagram.com/v/t5...</td>\n",
       "    </tr>\n",
       "    <tr>\n",
       "      <th>8</th>\n",
       "      <td>blimp.taste</td>\n",
       "      <td>야장보다 조용하지만, 야외 좌석에서 같은 분위기를 느낄 수 있는 맛집 8곳을 알려드...</td>\n",
       "      <td>[]</td>\n",
       "      <td>2025-04-16</td>\n",
       "      <td>1484</td>\n",
       "      <td>[https://scontent-ssn1-1.cdninstagram.com/v/t5...</td>\n",
       "    </tr>\n",
       "    <tr>\n",
       "      <th>9</th>\n",
       "      <td>all.about.hongdae.yeonnam</td>\n",
       "      <td>여기 먹어보면 스윙스에게 고마울껄요?(๑&gt;؂&lt;๑)۶스윙스가 샤라웃한 연남동 수제만두...</td>\n",
       "      <td>[#연교서울, #연남동맛집]</td>\n",
       "      <td>2025-03-31</td>\n",
       "      <td>638</td>\n",
       "      <td>[https://scontent-ssn1-1.cdninstagram.com/v/t3...</td>\n",
       "    </tr>\n",
       "  </tbody>\n",
       "</table>\n",
       "</div>"
      ],
      "text/plain": [
       "                          id  \\\n",
       "0                seoulhotple   \n",
       "1               seoul_trends   \n",
       "2                  hong_sool   \n",
       "3                trendy_stay   \n",
       "4                    or__and   \n",
       "5       all.about.seoul.trip   \n",
       "6            seoul_thehotple   \n",
       "7                 mukit_list   \n",
       "8                blimp.taste   \n",
       "9  all.about.hongdae.yeonnam   \n",
       "\n",
       "                                             content  \\\n",
       "0  [먹부림하기 좋은 연남동찐맛집 36곳 대공개💗]비쥬얼부터 맛있어버린 핫한 맛집들로 ...   \n",
       "1  요즘 날씨 안가면 유죄라는연남동 봄맛집 털어왔다~~🌸🩷 비주얼부터 맛까지아무거나 골...   \n",
       "2  마포구 13년차 거주민이 말아주는💚연남 데이트코스 17💚n번째 재방문한 찐만 슬쩍 ...   \n",
       "3  연남동에 이렇게 감각 있는 곳들이 많아?🤔한 번 발을 들이면 두 번, 세 번 찾게 ...   \n",
       "4  연남동. 필러맞은듯한 낙지만취급한다는 미친낙지볶음집. 쫀득함이 머리울릴정도였어요. ...   \n",
       "5  ✨요즘 사람들 연남동 가는 이유12✨돌고돌아 연남동만한 맛집동네 없다;;;이름에 '...   \n",
       "6  서울에서 오코노미야끼 제일 잘하는 곳을 소개한다.연남동 끝자락, 오코노미야끼 맛집 ...   \n",
       "7  [먹킷📝]  이거 하나보면 끝 메모하자✏먹킷이 후기찾아보고 만든‘연남동 맛집 종결판...   \n",
       "8  야장보다 조용하지만, 야외 좌석에서 같은 분위기를 느낄 수 있는 맛집 8곳을 알려드...   \n",
       "9  여기 먹어보면 스윙스에게 고마울껄요?(๑>؂<๑)۶스윙스가 샤라웃한 연남동 수제만두...   \n",
       "\n",
       "                                                tags        date  like  \\\n",
       "0  [#연남동맛집, #연남동맛집추천, #연남동맛집투어, #연남동데이트, #연남동데이트추...  2023-03-31  3789   \n",
       "1        [#연남동, #연남동맛집, #연남맛집, #연남동카페, #홍대맛집, #야장맛집]  2025-04-23  2400   \n",
       "2            [#연남동맛집추천, #연남동맛집, #홍대맛집, #연남카페, #홍대핫플]  2025-04-30   683   \n",
       "3                                                 []  2025-02-27  1573   \n",
       "4  [#오얼앤드_연남동홍대, #낙지낚찌📌서울, #마포구맛집, #홍대맛집, #연남동맛집,...  2022-05-18    5만   \n",
       "5            [#연남동맛집, #연남동카페, #연남동핫플, #연남동데이트, #연남동]  2024-07-10  2093   \n",
       "6  [#소점, #더핫플_연남동, #서울맛집, #연남동맛집, #서울가볼만한곳, #서울데이...  2022-04-27  1.5만   \n",
       "7  [#연남동맛집_종결판32연남동, #연남동맛집, #연남동카페, #연남동, #연남동빵집...  2022-12-08  1.8만   \n",
       "8                                                 []  2025-04-16  1484   \n",
       "9                                    [#연교서울, #연남동맛집]  2025-03-31   638   \n",
       "\n",
       "                                            img_urls  \n",
       "0  [https://scontent-ssn1-1.cdninstagram.com/v/t5...  \n",
       "1  [https://scontent-ssn1-1.cdninstagram.com/v/t5...  \n",
       "2  [https://scontent-ssn1-1.cdninstagram.com/v/t3...  \n",
       "3  [https://scontent-ssn1-1.cdninstagram.com/v/t5...  \n",
       "4  [https://scontent-ssn1-1.cdninstagram.com/v/t5...  \n",
       "5  [https://scontent-ssn1-1.cdninstagram.com/v/t3...  \n",
       "6  [https://scontent-ssn1-1.cdninstagram.com/v/t5...  \n",
       "7  [https://scontent-ssn1-1.cdninstagram.com/v/t5...  \n",
       "8  [https://scontent-ssn1-1.cdninstagram.com/v/t5...  \n",
       "9  [https://scontent-ssn1-1.cdninstagram.com/v/t3...  "
      ]
     },
     "execution_count": 8,
     "metadata": {},
     "output_type": "execute_result"
    }
   ],
   "source": [
    "results_df = pd.DataFrame(results)\n",
    "results_df.columns = ['id', 'content', 'tags', 'date', 'like', 'img_urls']\n",
    "\n",
    "results_df\n",
    "\n",
    "#trendy_stay랑 bimp.taste는 해시태그가 댓글에 있음음"
   ]
  }
 ],
 "metadata": {
  "kernelspec": {
   "display_name": "real_matjib",
   "language": "python",
   "name": "python3"
  },
  "language_info": {
   "codemirror_mode": {
    "name": "ipython",
    "version": 3
   },
   "file_extension": ".py",
   "mimetype": "text/x-python",
   "name": "python",
   "nbconvert_exporter": "python",
   "pygments_lexer": "ipython3",
   "version": "3.10.16"
  }
 },
 "nbformat": 4,
 "nbformat_minor": 5
}
