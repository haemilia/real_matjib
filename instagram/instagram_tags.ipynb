{
 "cells": [
  {
   "cell_type": "markdown",
   "id": "36c7b020",
   "metadata": {},
   "source": [
    "**참고 사이트**<br>\n",
    "[인스타 크롤링(1)](https://blog.naver.com/cygnet3rd/222885102852),\n",
    "[인스타 크롤링(2)](https://velog.io/@leeug9002/python-selenium%EC%9D%B8%EC%8A%A4%ED%83%80-%ED%81%AC%EB%A1%A4%EB%A7%81),\n",
    "[인스타 게시물 내 사진 크롤링](https://proefforter.tistory.com/36),\n",
    "[리스트 중복 제거&순서 유지](https://m31phy.tistory.com/130)"
   ]
  },
  {
   "cell_type": "markdown",
   "id": "76f8f441",
   "metadata": {},
   "source": [
    "**필요한 패키지 호출**"
   ]
  },
  {
   "cell_type": "code",
   "execution_count": 1,
   "id": "55e1b1be",
   "metadata": {},
   "outputs": [],
   "source": [
    "from selenium import webdriver\n",
    "from bs4 import BeautifulSoup\n",
    "import pandas as pd\n",
    "import time\n",
    "import re\n",
    "\n",
    "import requests\n",
    "from re import escape\n",
    "from bs4 import BeautifulSoup\n",
    "from selenium import webdriver\n",
    "from selenium.webdriver.chrome.service import Service\n",
    "from webdriver_manager.chrome import ChromeDriverManager\n",
    "from bs4 import BeautifulSoup\n",
    "\n",
    "from selenium.webdriver.common.by import By\n",
    "from selenium.webdriver.support.ui import WebDriverWait\n",
    "from selenium.webdriver.support import expected_conditions as EC\n",
    "from selenium.webdriver.chrome.options import Options\n",
    "\n",
    "import urllib.request\n",
    "import time\n",
    "from selenium.webdriver.common.by import By\n",
    "from bs4 import BeautifulSoup, NavigableString, Tag"
   ]
  },
  {
   "cell_type": "markdown",
   "id": "dd291a1e",
   "metadata": {},
   "source": [
    "**데이터 수집하기**\n",
    "- 아이디, 본문 내용, 해시태그, 작성일자, 좋아요 수, 이미지 URL, 댓글"
   ]
  },
  {
   "cell_type": "code",
   "execution_count": 2,
   "id": "ea90cd30",
   "metadata": {},
   "outputs": [],
   "source": [
    "def get_content(driver):\n",
    "    url = driver.current_url\n",
    "    driver.get(url)\n",
    "    time.sleep(3)\n",
    "\n",
    "    html = driver.page_source\n",
    "    soup = BeautifulSoup(html, 'html.parser')\n",
    "\n",
    "    #아이디\n",
    "    ids = soup.select('span._ap3a._aaco._aacw._aacx._aad7._aade')[0].text\n",
    "\n",
    "    #본문 내용\n",
    "    try:\n",
    "        #다른 유저 태그되어있을 시 [0].text가 \"및\"임\n",
    "        soup_select = soup.select('span.x193iq5w.xeuugli.x1fj9vlw.x13faqbe.x1vvkbs.xt0psk2.x1i0vuye.xvs91rp.xo1l8bm.x5n08af.x10wh9bi.x1wdrske.x8viiok.x18hxmgj')\n",
    "        select_cnt = len(soup_select)\n",
    "        content_all = soup_select[select_cnt-1].text\n",
    "        content = re.sub(r'#\\S+', '', content_all).strip()\n",
    "    except:\n",
    "        content = ''    #본문 내용 없을 시\n",
    "\n",
    "    #해시태그\n",
    "    tags = re.findall(r'#[^\\s#,\\\\]+', content_all)\n",
    "\n",
    "    #작성일자\n",
    "    date = soup.select('time.x1p4m5qa')[0]['datetime'][:10]\n",
    "\n",
    "    #좋아요\n",
    "    try:\n",
    "        like = soup.select('span.html-span.xdj266r.x11i5rnm.xat24cr.x1mh8g0r.xexx8yu.x4uap5.x18d9i69.xkhd6sd.x1hl2dhg.x16tdsg8.x1vvkbs')[0].text\n",
    "    except:\n",
    "        like = 0    #좋아요 없을 시\n",
    "    \n",
    "    #이미지\n",
    "    try:\n",
    "        # 이미지 객체 저장 변수 및 url저장 변수 선언\n",
    "        img_urls = []\n",
    "        images = []\n",
    "\n",
    "        # 이미지 객체 찾기\n",
    "        images.append(driver.find_elements(By.CLASS_NAME, \"x5yr21d.xu96u03.x10l6tqk.x13vifvy.x87ps6o.xh8yej3\"))\n",
    "\n",
    "        try:\n",
    "            while(1):\n",
    "                # 다음 버튼 클릭 0.5초 지연시간 설정\n",
    "                time.sleep(0.5)\n",
    "                # 다음 버튼이 화면에 존재할 경우, 다음 버튼 클릭후 다음차례의 이미지 저장\n",
    "                driver.find_element(By.CLASS_NAME,\"_afxw._al46._al47\").click()\n",
    "                images.append(driver.find_elements(By.CLASS_NAME, \"x5yr21d.xu96u03.x10l6tqk.x13vifvy.x87ps6o.xh8yej3\"))\n",
    "                \n",
    "                # 수집한 이미지 객체 중, 3번째 객체까지 이미지 소스주소를 수집한다.\n",
    "                for i in range(images.__len__()):\n",
    "                    for j in range(images[i].__len__()):\n",
    "                        if(j>=3):\n",
    "                            break\n",
    "                        img_urls.append(images[i][j].get_attribute('src'))\n",
    "\n",
    "                # 수집한 이미지 객체 자료들 비우기\n",
    "                images.clear()\n",
    "        except:\n",
    "            # 다음버튼이 존재하지 않을 경우\n",
    "            # 리스트 - 셋 - 리스트 형변환으로 중복 데이터 삭제\n",
    "            img_urls = list(dict.fromkeys(img_urls))\n",
    "\n",
    "        del img_urls[2] #가장 최근 게시물의 썸네일 링크는 삭제\n",
    "\n",
    "    except:\n",
    "        img_urls = ''   #이미지 없을 시\n",
    "\n",
    "    #댓글\n",
    "    comments = []\n",
    "\n",
    "    for a_tag in soup.select('span > a.notranslate._a6hd'):\n",
    "        inside_text = a_tag.get_text(strip=True)\n",
    "        \n",
    "        # 다음 형제 노드 찾기\n",
    "        next_node = a_tag.next_sibling\n",
    "\n",
    "        # 텍스트가 바로 있을 수도, 태그가 있을 수도 있음\n",
    "        outside_text = ''\n",
    "        \n",
    "        # 만약 next_node가 텍스트 노드면\n",
    "        if isinstance(next_node, NavigableString):\n",
    "            outside_text = next_node.strip()\n",
    "        # 만약 다음 노드가 태그면 그 안의 텍스트 가져오기\n",
    "        elif isinstance(next_node, Tag):\n",
    "            outside_text = next_node.get_text(strip=True)\n",
    "        \n",
    "        #print(f\"내부텍스트: {inside_text}, 바깥텍스트: {outside_text}\")\n",
    "        cmt = inside_text + ' ' + outside_text\n",
    "        comments.append(cmt)\n",
    "\n",
    "    data = [ids, content, tags, date, like, img_urls, comments]\n",
    "    return data"
   ]
  },
  {
   "cell_type": "markdown",
   "id": "cf2ed240",
   "metadata": {},
   "source": [
    "**크롬 브라우저 열고 인스타그램 접속**"
   ]
  },
  {
   "cell_type": "code",
   "execution_count": 3,
   "id": "ee8bd1c8",
   "metadata": {},
   "outputs": [],
   "source": [
    "options = webdriver.ChromeOptions()\n",
    "driver = webdriver.Chrome(service=Service(ChromeDriverManager().install()), options=options)\n",
    "\n",
    "url = 'https://www.instagram.com'\n",
    "\n",
    "driver.get(url)"
   ]
  },
  {
   "cell_type": "markdown",
   "id": "e8d831ef",
   "metadata": {},
   "source": [
    "**인스타그램 로그인**\n",
    "- `By.NAME`: HTML 태그 중 `name='...'` 속성을 기준으로 찾겠다\n",
    "- ex. `<input t ype='password' name='password'>`"
   ]
  },
  {
   "cell_type": "code",
   "execution_count": 4,
   "id": "dd720cc0",
   "metadata": {},
   "outputs": [],
   "source": [
    "userId = 'user id'\n",
    "input_id = driver.find_element(By.NAME, 'username')\n",
    "input_id.clear()\n",
    "input_id.send_keys(userId)\n",
    "\n",
    "userPw = 'user password'\n",
    "input_pw = driver.find_element(By.NAME, 'password')\n",
    "input_pw.clear()\n",
    "input_pw.send_keys(userPw)\n",
    "input_pw.submit()"
   ]
  },
  {
   "cell_type": "markdown",
   "id": "b2094f95",
   "metadata": {},
   "source": [
    "**원하는 검색어(해시태그)를 입력받아 해당 검색결과 페이지로 링크**\n",
    "- 페이지가 로드되는 데 시간이 소요될 수 있어 3초의 시간 지연 부여"
   ]
  },
  {
   "cell_type": "code",
   "execution_count": 5,
   "id": "63638e18",
   "metadata": {},
   "outputs": [],
   "source": [
    "word = input('검색어를 입력하세요: ')   #'연남동맛집' 검색\n",
    "url = 'https://www.instagram.com/explore/search/keyword/?q=%23' + str(word)\n",
    "driver.get(url)\n",
    "time.sleep(3)"
   ]
  },
  {
   "cell_type": "code",
   "execution_count": 6,
   "id": "fb58f4a1",
   "metadata": {},
   "outputs": [],
   "source": [
    "driver.find_elements(By.CSS_SELECTOR, 'div._aagw')[0].click()   #첫 번째 게시물 클릭\n",
    "time.sleep(3)\n",
    "\n",
    "post_url = []\n",
    "post_url.append(driver.current_url) #현재(첫 번째) 게시물 url\n",
    "\n",
    "def move_next(driver):\n",
    "    nxt = driver.find_element(By.CSS_SELECTOR, 'div._aaqg._aaqh')\n",
    "    nxt.click()   #다음 게시물로 이동\n",
    "    time.sleep(3)\n",
    "    now_url = driver.current_url    #이동한 게시물 url\n",
    "    post_url.append(now_url)\n",
    "\n",
    "target = 9  #수집할 게시물 개수\n",
    "\n",
    "for i in range(target):\n",
    "    try:\n",
    "        move_next(driver)   #target만큼 게시물의 url 모으기\n",
    "        time.sleep(3)\n",
    "    except:\n",
    "        time.sleep(2)\n",
    "        move_next(driver)\n",
    "        time.sleep(3)"
   ]
  },
  {
   "cell_type": "code",
   "execution_count": null,
   "id": "73ba47ee",
   "metadata": {},
   "outputs": [],
   "source": [
    "results = []    #수집한 데이터값 담을 리스트\n",
    "\n",
    "for post in post_url:\n",
    "    url = post\n",
    "    driver.get(url) #게시물 url로 이동\n",
    "\n",
    "    data = get_content(driver)  #크롤링\n",
    "    results.append(data)\n",
    "    time.sleep(3)\n",
    "\n",
    "len(results)"
   ]
  },
  {
   "cell_type": "code",
   "execution_count": null,
   "id": "95376333",
   "metadata": {},
   "outputs": [],
   "source": [
    "results_df = pd.DataFrame(results)\n",
    "results_df.columns = ['id', 'content', 'tags', 'date', 'like', 'img_urls']\n",
    "\n",
    "results_df\n",
    "\n",
    "#해시태그가 댓글에 있는 경우도 있음"
   ]
  }
 ],
 "metadata": {
  "kernelspec": {
   "display_name": "real_matjib",
   "language": "python",
   "name": "python3"
  },
  "language_info": {
   "codemirror_mode": {
    "name": "ipython",
    "version": 3
   },
   "file_extension": ".py",
   "mimetype": "text/x-python",
   "name": "python",
   "nbconvert_exporter": "python",
   "pygments_lexer": "ipython3",
   "version": "3.10.16"
  }
 },
 "nbformat": 4,
 "nbformat_minor": 5
}
